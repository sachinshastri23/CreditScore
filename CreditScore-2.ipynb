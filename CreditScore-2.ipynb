{
 "cells": [
  {
   "attachments": {},
   "cell_type": "markdown",
   "id": "0d8b282b",
   "metadata": {},
   "source": [
    "### 1. SeriousDlqin2yrs: Person experienced 90 days past due delinquency or worse \t(Y/N)\n",
    "\n",
    "### 2. RevolvingUtilizationOfUnsecuredLines\tTotal balance on credit cards and personal lines of credit except real estate and no installment debt like car loans divided by the sum of credit limits\t(percentage)\n",
    "\n",
    "### 3. age:\tAge of borrower in years (integer)\n",
    "\n",
    "### 4. NumberOfTime30-59DaysPastDueNotWorse: Number of times borrower has been 30-59 days past due but no worse in the last 2 years. (integer)\n",
    "\n",
    "### 5. DebtRatio: Monthly debt payments, alimony,living costs divided by monthy gross income (percentage)\n",
    "\n",
    "### 6. MonthlyIncome: Monthly income (real)\n",
    "\n",
    "### 7. NumberOfOpenCreditLinesAndLoans:\tNumber of Open loans (installment like car loan or mortgage) and Lines of credit (e.g. credit cards) (integer)\n",
    "\n",
    "### 8. NumberOfTimes90DaysLate:\tNumber of times borrower has been 90 days or more past due.\t(integer)\n",
    "\n",
    "### 9. NumberRealEstateLoansOrLines: Number of mortgage and real estate loans including home equity lines of credit\t(integer)\n",
    "\n",
    "### 10. NumberOfTime60-89DaysPastDueNotWorse: Number of times borrower has been 60-89 days past due but no worse in the last 2 years.\t(integer)\n",
    "\n",
    "### 11. NumberOfDependents:\tNumber of dependents in family excluding themselves (spouse, children etc.)\t(integer)"
   ]
  },
  {
   "cell_type": "code",
   "execution_count": 804,
   "id": "5dedd1c7",
   "metadata": {},
   "outputs": [],
   "source": [
    "import pandas as pd\n",
    "import numpy as np\n",
    "import seaborn as sns\n",
    "import matplotlib.pyplot as plt\n"
   ]
  },
  {
   "cell_type": "code",
   "execution_count": 805,
   "id": "2e2cf0ed",
   "metadata": {},
   "outputs": [],
   "source": [
    "default=pd.read_csv('/Users/ankitshastri/Downloads/cs-training.csv')"
   ]
  },
  {
   "cell_type": "code",
   "execution_count": 806,
   "id": "ced3e701",
   "metadata": {
    "scrolled": true
   },
   "outputs": [
    {
     "data": {
      "text/html": [
       "<div>\n",
       "<style scoped>\n",
       "    .dataframe tbody tr th:only-of-type {\n",
       "        vertical-align: middle;\n",
       "    }\n",
       "\n",
       "    .dataframe tbody tr th {\n",
       "        vertical-align: top;\n",
       "    }\n",
       "\n",
       "    .dataframe thead th {\n",
       "        text-align: right;\n",
       "    }\n",
       "</style>\n",
       "<table border=\"1\" class=\"dataframe\">\n",
       "  <thead>\n",
       "    <tr style=\"text-align: right;\">\n",
       "      <th></th>\n",
       "      <th>Unnamed: 0</th>\n",
       "      <th>SeriousDlqin2yrs</th>\n",
       "      <th>RevolvingUtilizationOfUnsecuredLines</th>\n",
       "      <th>age</th>\n",
       "      <th>NumberOfTime30-59DaysPastDueNotWorse</th>\n",
       "      <th>DebtRatio</th>\n",
       "      <th>MonthlyIncome</th>\n",
       "      <th>NumberOfOpenCreditLinesAndLoans</th>\n",
       "      <th>NumberOfTimes90DaysLate</th>\n",
       "      <th>NumberRealEstateLoansOrLines</th>\n",
       "      <th>NumberOfTime60-89DaysPastDueNotWorse</th>\n",
       "      <th>NumberOfDependents</th>\n",
       "    </tr>\n",
       "  </thead>\n",
       "  <tbody>\n",
       "    <tr>\n",
       "      <th>0</th>\n",
       "      <td>1</td>\n",
       "      <td>1</td>\n",
       "      <td>0.766127</td>\n",
       "      <td>45</td>\n",
       "      <td>2</td>\n",
       "      <td>0.802982</td>\n",
       "      <td>9120.0</td>\n",
       "      <td>13</td>\n",
       "      <td>0</td>\n",
       "      <td>6</td>\n",
       "      <td>0</td>\n",
       "      <td>2.0</td>\n",
       "    </tr>\n",
       "    <tr>\n",
       "      <th>1</th>\n",
       "      <td>2</td>\n",
       "      <td>0</td>\n",
       "      <td>0.957151</td>\n",
       "      <td>40</td>\n",
       "      <td>0</td>\n",
       "      <td>0.121876</td>\n",
       "      <td>2600.0</td>\n",
       "      <td>4</td>\n",
       "      <td>0</td>\n",
       "      <td>0</td>\n",
       "      <td>0</td>\n",
       "      <td>1.0</td>\n",
       "    </tr>\n",
       "    <tr>\n",
       "      <th>2</th>\n",
       "      <td>3</td>\n",
       "      <td>0</td>\n",
       "      <td>0.658180</td>\n",
       "      <td>38</td>\n",
       "      <td>1</td>\n",
       "      <td>0.085113</td>\n",
       "      <td>3042.0</td>\n",
       "      <td>2</td>\n",
       "      <td>1</td>\n",
       "      <td>0</td>\n",
       "      <td>0</td>\n",
       "      <td>0.0</td>\n",
       "    </tr>\n",
       "    <tr>\n",
       "      <th>3</th>\n",
       "      <td>4</td>\n",
       "      <td>0</td>\n",
       "      <td>0.233810</td>\n",
       "      <td>30</td>\n",
       "      <td>0</td>\n",
       "      <td>0.036050</td>\n",
       "      <td>3300.0</td>\n",
       "      <td>5</td>\n",
       "      <td>0</td>\n",
       "      <td>0</td>\n",
       "      <td>0</td>\n",
       "      <td>0.0</td>\n",
       "    </tr>\n",
       "    <tr>\n",
       "      <th>4</th>\n",
       "      <td>5</td>\n",
       "      <td>0</td>\n",
       "      <td>0.907239</td>\n",
       "      <td>49</td>\n",
       "      <td>1</td>\n",
       "      <td>0.024926</td>\n",
       "      <td>63588.0</td>\n",
       "      <td>7</td>\n",
       "      <td>0</td>\n",
       "      <td>1</td>\n",
       "      <td>0</td>\n",
       "      <td>0.0</td>\n",
       "    </tr>\n",
       "  </tbody>\n",
       "</table>\n",
       "</div>"
      ],
      "text/plain": [
       "   Unnamed: 0  SeriousDlqin2yrs  RevolvingUtilizationOfUnsecuredLines  age  \\\n",
       "0           1                 1                              0.766127   45   \n",
       "1           2                 0                              0.957151   40   \n",
       "2           3                 0                              0.658180   38   \n",
       "3           4                 0                              0.233810   30   \n",
       "4           5                 0                              0.907239   49   \n",
       "\n",
       "   NumberOfTime30-59DaysPastDueNotWorse  DebtRatio  MonthlyIncome  \\\n",
       "0                                     2   0.802982         9120.0   \n",
       "1                                     0   0.121876         2600.0   \n",
       "2                                     1   0.085113         3042.0   \n",
       "3                                     0   0.036050         3300.0   \n",
       "4                                     1   0.024926        63588.0   \n",
       "\n",
       "   NumberOfOpenCreditLinesAndLoans  NumberOfTimes90DaysLate  \\\n",
       "0                               13                        0   \n",
       "1                                4                        0   \n",
       "2                                2                        1   \n",
       "3                                5                        0   \n",
       "4                                7                        0   \n",
       "\n",
       "   NumberRealEstateLoansOrLines  NumberOfTime60-89DaysPastDueNotWorse  \\\n",
       "0                             6                                     0   \n",
       "1                             0                                     0   \n",
       "2                             0                                     0   \n",
       "3                             0                                     0   \n",
       "4                             1                                     0   \n",
       "\n",
       "   NumberOfDependents  \n",
       "0                 2.0  \n",
       "1                 1.0  \n",
       "2                 0.0  \n",
       "3                 0.0  \n",
       "4                 0.0  "
      ]
     },
     "execution_count": 806,
     "metadata": {},
     "output_type": "execute_result"
    }
   ],
   "source": [
    "default.head()"
   ]
  },
  {
   "cell_type": "code",
   "execution_count": 807,
   "id": "e7ababd8",
   "metadata": {},
   "outputs": [
    {
     "name": "stdout",
     "output_type": "stream",
     "text": [
      "['Unnamed: 0', 'SeriousDlqin2yrs', 'RevolvingUtilizationOfUnsecuredLines', 'age', 'NumberOfTime30-59DaysPastDueNotWorse', 'DebtRatio', 'MonthlyIncome', 'NumberOfOpenCreditLinesAndLoans', 'NumberOfTimes90DaysLate', 'NumberRealEstateLoansOrLines', 'NumberOfTime60-89DaysPastDueNotWorse', 'NumberOfDependents']\n"
     ]
    }
   ],
   "source": [
    "l=[]\n",
    "for a in default.columns:\n",
    "    l.append(a)\n",
    "\n",
    "print(l)\n"
   ]
  },
  {
   "cell_type": "code",
   "execution_count": 808,
   "id": "4cda1c1a",
   "metadata": {},
   "outputs": [
    {
     "data": {
      "text/plain": [
       "0    139974\n",
       "1     10026\n",
       "Name: SeriousDlqin2yrs, dtype: int64"
      ]
     },
     "execution_count": 808,
     "metadata": {},
     "output_type": "execute_result"
    }
   ],
   "source": [
    "default['SeriousDlqin2yrs'].value_counts()"
   ]
  },
  {
   "cell_type": "code",
   "execution_count": 809,
   "id": "55eb1d72",
   "metadata": {},
   "outputs": [
    {
     "data": {
      "text/html": [
       "<div>\n",
       "<style scoped>\n",
       "    .dataframe tbody tr th:only-of-type {\n",
       "        vertical-align: middle;\n",
       "    }\n",
       "\n",
       "    .dataframe tbody tr th {\n",
       "        vertical-align: top;\n",
       "    }\n",
       "\n",
       "    .dataframe thead th {\n",
       "        text-align: right;\n",
       "    }\n",
       "</style>\n",
       "<table border=\"1\" class=\"dataframe\">\n",
       "  <thead>\n",
       "    <tr style=\"text-align: right;\">\n",
       "      <th></th>\n",
       "      <th>Unnamed: 0</th>\n",
       "      <th>SeriousDlqin2yrs</th>\n",
       "      <th>RevolvingUtilizationOfUnsecuredLines</th>\n",
       "      <th>age</th>\n",
       "      <th>NumberOfTime30-59DaysPastDueNotWorse</th>\n",
       "      <th>DebtRatio</th>\n",
       "      <th>MonthlyIncome</th>\n",
       "      <th>NumberOfOpenCreditLinesAndLoans</th>\n",
       "      <th>NumberOfTimes90DaysLate</th>\n",
       "      <th>NumberRealEstateLoansOrLines</th>\n",
       "      <th>NumberOfTime60-89DaysPastDueNotWorse</th>\n",
       "      <th>NumberOfDependents</th>\n",
       "    </tr>\n",
       "  </thead>\n",
       "  <tbody>\n",
       "    <tr>\n",
       "      <th>count</th>\n",
       "      <td>150000.000000</td>\n",
       "      <td>150000.000000</td>\n",
       "      <td>150000.000000</td>\n",
       "      <td>150000.000000</td>\n",
       "      <td>150000.000000</td>\n",
       "      <td>150000.000000</td>\n",
       "      <td>1.202690e+05</td>\n",
       "      <td>150000.000000</td>\n",
       "      <td>150000.000000</td>\n",
       "      <td>150000.000000</td>\n",
       "      <td>150000.000000</td>\n",
       "      <td>146076.000000</td>\n",
       "    </tr>\n",
       "    <tr>\n",
       "      <th>mean</th>\n",
       "      <td>75000.500000</td>\n",
       "      <td>0.066840</td>\n",
       "      <td>6.048438</td>\n",
       "      <td>52.295207</td>\n",
       "      <td>0.421033</td>\n",
       "      <td>353.005076</td>\n",
       "      <td>6.670221e+03</td>\n",
       "      <td>8.452760</td>\n",
       "      <td>0.265973</td>\n",
       "      <td>1.018240</td>\n",
       "      <td>0.240387</td>\n",
       "      <td>0.757222</td>\n",
       "    </tr>\n",
       "    <tr>\n",
       "      <th>std</th>\n",
       "      <td>43301.414527</td>\n",
       "      <td>0.249746</td>\n",
       "      <td>249.755371</td>\n",
       "      <td>14.771866</td>\n",
       "      <td>4.192781</td>\n",
       "      <td>2037.818523</td>\n",
       "      <td>1.438467e+04</td>\n",
       "      <td>5.145951</td>\n",
       "      <td>4.169304</td>\n",
       "      <td>1.129771</td>\n",
       "      <td>4.155179</td>\n",
       "      <td>1.115086</td>\n",
       "    </tr>\n",
       "    <tr>\n",
       "      <th>min</th>\n",
       "      <td>1.000000</td>\n",
       "      <td>0.000000</td>\n",
       "      <td>0.000000</td>\n",
       "      <td>0.000000</td>\n",
       "      <td>0.000000</td>\n",
       "      <td>0.000000</td>\n",
       "      <td>0.000000e+00</td>\n",
       "      <td>0.000000</td>\n",
       "      <td>0.000000</td>\n",
       "      <td>0.000000</td>\n",
       "      <td>0.000000</td>\n",
       "      <td>0.000000</td>\n",
       "    </tr>\n",
       "    <tr>\n",
       "      <th>25%</th>\n",
       "      <td>37500.750000</td>\n",
       "      <td>0.000000</td>\n",
       "      <td>0.029867</td>\n",
       "      <td>41.000000</td>\n",
       "      <td>0.000000</td>\n",
       "      <td>0.175074</td>\n",
       "      <td>3.400000e+03</td>\n",
       "      <td>5.000000</td>\n",
       "      <td>0.000000</td>\n",
       "      <td>0.000000</td>\n",
       "      <td>0.000000</td>\n",
       "      <td>0.000000</td>\n",
       "    </tr>\n",
       "    <tr>\n",
       "      <th>50%</th>\n",
       "      <td>75000.500000</td>\n",
       "      <td>0.000000</td>\n",
       "      <td>0.154181</td>\n",
       "      <td>52.000000</td>\n",
       "      <td>0.000000</td>\n",
       "      <td>0.366508</td>\n",
       "      <td>5.400000e+03</td>\n",
       "      <td>8.000000</td>\n",
       "      <td>0.000000</td>\n",
       "      <td>1.000000</td>\n",
       "      <td>0.000000</td>\n",
       "      <td>0.000000</td>\n",
       "    </tr>\n",
       "    <tr>\n",
       "      <th>75%</th>\n",
       "      <td>112500.250000</td>\n",
       "      <td>0.000000</td>\n",
       "      <td>0.559046</td>\n",
       "      <td>63.000000</td>\n",
       "      <td>0.000000</td>\n",
       "      <td>0.868254</td>\n",
       "      <td>8.249000e+03</td>\n",
       "      <td>11.000000</td>\n",
       "      <td>0.000000</td>\n",
       "      <td>2.000000</td>\n",
       "      <td>0.000000</td>\n",
       "      <td>1.000000</td>\n",
       "    </tr>\n",
       "    <tr>\n",
       "      <th>max</th>\n",
       "      <td>150000.000000</td>\n",
       "      <td>1.000000</td>\n",
       "      <td>50708.000000</td>\n",
       "      <td>109.000000</td>\n",
       "      <td>98.000000</td>\n",
       "      <td>329664.000000</td>\n",
       "      <td>3.008750e+06</td>\n",
       "      <td>58.000000</td>\n",
       "      <td>98.000000</td>\n",
       "      <td>54.000000</td>\n",
       "      <td>98.000000</td>\n",
       "      <td>20.000000</td>\n",
       "    </tr>\n",
       "  </tbody>\n",
       "</table>\n",
       "</div>"
      ],
      "text/plain": [
       "          Unnamed: 0  SeriousDlqin2yrs  RevolvingUtilizationOfUnsecuredLines  \\\n",
       "count  150000.000000     150000.000000                         150000.000000   \n",
       "mean    75000.500000          0.066840                              6.048438   \n",
       "std     43301.414527          0.249746                            249.755371   \n",
       "min         1.000000          0.000000                              0.000000   \n",
       "25%     37500.750000          0.000000                              0.029867   \n",
       "50%     75000.500000          0.000000                              0.154181   \n",
       "75%    112500.250000          0.000000                              0.559046   \n",
       "max    150000.000000          1.000000                          50708.000000   \n",
       "\n",
       "                 age  NumberOfTime30-59DaysPastDueNotWorse      DebtRatio  \\\n",
       "count  150000.000000                         150000.000000  150000.000000   \n",
       "mean       52.295207                              0.421033     353.005076   \n",
       "std        14.771866                              4.192781    2037.818523   \n",
       "min         0.000000                              0.000000       0.000000   \n",
       "25%        41.000000                              0.000000       0.175074   \n",
       "50%        52.000000                              0.000000       0.366508   \n",
       "75%        63.000000                              0.000000       0.868254   \n",
       "max       109.000000                             98.000000  329664.000000   \n",
       "\n",
       "       MonthlyIncome  NumberOfOpenCreditLinesAndLoans  \\\n",
       "count   1.202690e+05                    150000.000000   \n",
       "mean    6.670221e+03                         8.452760   \n",
       "std     1.438467e+04                         5.145951   \n",
       "min     0.000000e+00                         0.000000   \n",
       "25%     3.400000e+03                         5.000000   \n",
       "50%     5.400000e+03                         8.000000   \n",
       "75%     8.249000e+03                        11.000000   \n",
       "max     3.008750e+06                        58.000000   \n",
       "\n",
       "       NumberOfTimes90DaysLate  NumberRealEstateLoansOrLines  \\\n",
       "count            150000.000000                 150000.000000   \n",
       "mean                  0.265973                      1.018240   \n",
       "std                   4.169304                      1.129771   \n",
       "min                   0.000000                      0.000000   \n",
       "25%                   0.000000                      0.000000   \n",
       "50%                   0.000000                      1.000000   \n",
       "75%                   0.000000                      2.000000   \n",
       "max                  98.000000                     54.000000   \n",
       "\n",
       "       NumberOfTime60-89DaysPastDueNotWorse  NumberOfDependents  \n",
       "count                         150000.000000       146076.000000  \n",
       "mean                               0.240387            0.757222  \n",
       "std                                4.155179            1.115086  \n",
       "min                                0.000000            0.000000  \n",
       "25%                                0.000000            0.000000  \n",
       "50%                                0.000000            0.000000  \n",
       "75%                                0.000000            1.000000  \n",
       "max                               98.000000           20.000000  "
      ]
     },
     "execution_count": 809,
     "metadata": {},
     "output_type": "execute_result"
    }
   ],
   "source": [
    "default.describe()"
   ]
  },
  {
   "cell_type": "code",
   "execution_count": 810,
   "id": "258da572",
   "metadata": {},
   "outputs": [
    {
     "name": "stdout",
     "output_type": "stream",
     "text": [
      "<class 'pandas.core.frame.DataFrame'>\n",
      "RangeIndex: 150000 entries, 0 to 149999\n",
      "Data columns (total 12 columns):\n",
      " #   Column                                Non-Null Count   Dtype  \n",
      "---  ------                                --------------   -----  \n",
      " 0   Unnamed: 0                            150000 non-null  int64  \n",
      " 1   SeriousDlqin2yrs                      150000 non-null  int64  \n",
      " 2   RevolvingUtilizationOfUnsecuredLines  150000 non-null  float64\n",
      " 3   age                                   150000 non-null  int64  \n",
      " 4   NumberOfTime30-59DaysPastDueNotWorse  150000 non-null  int64  \n",
      " 5   DebtRatio                             150000 non-null  float64\n",
      " 6   MonthlyIncome                         120269 non-null  float64\n",
      " 7   NumberOfOpenCreditLinesAndLoans       150000 non-null  int64  \n",
      " 8   NumberOfTimes90DaysLate               150000 non-null  int64  \n",
      " 9   NumberRealEstateLoansOrLines          150000 non-null  int64  \n",
      " 10  NumberOfTime60-89DaysPastDueNotWorse  150000 non-null  int64  \n",
      " 11  NumberOfDependents                    146076 non-null  float64\n",
      "dtypes: float64(4), int64(8)\n",
      "memory usage: 13.7 MB\n"
     ]
    }
   ],
   "source": [
    "default.info()"
   ]
  },
  {
   "cell_type": "code",
   "execution_count": 811,
   "id": "fd40e654",
   "metadata": {},
   "outputs": [],
   "source": [
    "default=default.drop(['Unnamed: 0'],axis=1)"
   ]
  },
  {
   "cell_type": "code",
   "execution_count": 812,
   "id": "e69763c1",
   "metadata": {},
   "outputs": [
    {
     "data": {
      "text/plain": [
       "609"
      ]
     },
     "execution_count": 812,
     "metadata": {},
     "output_type": "execute_result"
    }
   ],
   "source": [
    "default.duplicated().sum()"
   ]
  },
  {
   "cell_type": "code",
   "execution_count": 813,
   "id": "844a9677",
   "metadata": {},
   "outputs": [],
   "source": [
    "default=default.drop_duplicates()"
   ]
  },
  {
   "cell_type": "code",
   "execution_count": 814,
   "id": "ba436553",
   "metadata": {},
   "outputs": [
    {
     "data": {
      "text/plain": [
       "SeriousDlqin2yrs                            0\n",
       "RevolvingUtilizationOfUnsecuredLines        0\n",
       "age                                         0\n",
       "NumberOfTime30-59DaysPastDueNotWorse        0\n",
       "DebtRatio                                   0\n",
       "MonthlyIncome                           29221\n",
       "NumberOfOpenCreditLinesAndLoans             0\n",
       "NumberOfTimes90DaysLate                     0\n",
       "NumberRealEstateLoansOrLines                0\n",
       "NumberOfTime60-89DaysPastDueNotWorse        0\n",
       "NumberOfDependents                       3828\n",
       "dtype: int64"
      ]
     },
     "execution_count": 814,
     "metadata": {},
     "output_type": "execute_result"
    }
   ],
   "source": [
    "default.isnull().sum()"
   ]
  },
  {
   "cell_type": "code",
   "execution_count": 815,
   "id": "d52f2566",
   "metadata": {},
   "outputs": [
    {
     "data": {
      "text/plain": [
       "<Axes: ylabel='MonthlyIncome'>"
      ]
     },
     "execution_count": 815,
     "metadata": {},
     "output_type": "execute_result"
    },
    {
     "data": {
      "image/png": "[encoded data removed]",
      "text/plain": [
       "<Figure size 640x480 with 1 Axes>"
      ]
     },
     "metadata": {},
     "output_type": "display_data"
    }
   ],
   "source": [
    "sns.boxplot(y=default['MonthlyIncome'])"
   ]
  },
  {
   "cell_type": "code",
   "execution_count": 816,
   "id": "7e7bda4a",
   "metadata": {},
   "outputs": [],
   "source": [
    "i=default[default['MonthlyIncome'].isnull() & default['NumberOfDependents'].isnull()].index"
   ]
  },
  {
   "cell_type": "code",
   "execution_count": 817,
   "id": "360409e4",
   "metadata": {},
   "outputs": [],
   "source": [
    "df = default.drop(index=i)"
   ]
  },
  {
   "cell_type": "code",
   "execution_count": 818,
   "id": "dc9a93f5",
   "metadata": {},
   "outputs": [
    {
     "data": {
      "text/plain": [
       "SeriousDlqin2yrs                            0\n",
       "RevolvingUtilizationOfUnsecuredLines        0\n",
       "age                                         0\n",
       "NumberOfTime30-59DaysPastDueNotWorse        0\n",
       "DebtRatio                                   0\n",
       "MonthlyIncome                           25393\n",
       "NumberOfOpenCreditLinesAndLoans             0\n",
       "NumberOfTimes90DaysLate                     0\n",
       "NumberRealEstateLoansOrLines                0\n",
       "NumberOfTime60-89DaysPastDueNotWorse        0\n",
       "NumberOfDependents                          0\n",
       "dtype: int64"
      ]
     },
     "execution_count": 818,
     "metadata": {},
     "output_type": "execute_result"
    }
   ],
   "source": [
    "df.isnull().sum()"
   ]
  },
  {
   "cell_type": "code",
   "execution_count": 819,
   "id": "2651392d",
   "metadata": {},
   "outputs": [
    {
     "data": {
      "text/plain": [
       "<Axes: ylabel='MonthlyIncome'>"
      ]
     },
     "execution_count": 819,
     "metadata": {},
     "output_type": "execute_result"
    },
    {
     "data": {
      "image/png": "[encoded data removed]",
      "text/plain": [
       "<Figure size 640x480 with 1 Axes>"
      ]
     },
     "metadata": {},
     "output_type": "display_data"
    }
   ],
   "source": [
    "sns.boxplot(y=default['MonthlyIncome'])"
   ]
  },
  {
   "cell_type": "code",
   "execution_count": 820,
   "id": "db9cb04a",
   "metadata": {},
   "outputs": [
    {
     "data": {
      "text/plain": [
       "count    1.201700e+05\n",
       "mean     6.675098e+03\n",
       "std      1.438958e+04\n",
       "min      0.000000e+00\n",
       "25%      3.400000e+03\n",
       "50%      5.400000e+03\n",
       "75%      8.250000e+03\n",
       "max      3.008750e+06\n",
       "Name: MonthlyIncome, dtype: float64"
      ]
     },
     "execution_count": 820,
     "metadata": {},
     "output_type": "execute_result"
    }
   ],
   "source": [
    "df['MonthlyIncome'].describe()"
   ]
  },
  {
   "cell_type": "code",
   "execution_count": 821,
   "id": "efc4ff1c",
   "metadata": {},
   "outputs": [
    {
     "data": {
      "text/plain": [
       "5400.0"
      ]
     },
     "execution_count": 821,
     "metadata": {},
     "output_type": "execute_result"
    }
   ],
   "source": [
    "df['MonthlyIncome'].quantile(0.5)"
   ]
  },
  {
   "cell_type": "code",
   "execution_count": 822,
   "id": "61a2d4c4",
   "metadata": {},
   "outputs": [],
   "source": [
    "df['MonthlyIncome'] = df['MonthlyIncome'].fillna(df['MonthlyIncome'].median())\n"
   ]
  },
  {
   "cell_type": "code",
   "execution_count": 823,
   "id": "bd0a4caf",
   "metadata": {},
   "outputs": [
    {
     "data": {
      "text/plain": [
       "SeriousDlqin2yrs                        0\n",
       "RevolvingUtilizationOfUnsecuredLines    0\n",
       "age                                     0\n",
       "NumberOfTime30-59DaysPastDueNotWorse    0\n",
       "DebtRatio                               0\n",
       "MonthlyIncome                           0\n",
       "NumberOfOpenCreditLinesAndLoans         0\n",
       "NumberOfTimes90DaysLate                 0\n",
       "NumberRealEstateLoansOrLines            0\n",
       "NumberOfTime60-89DaysPastDueNotWorse    0\n",
       "NumberOfDependents                      0\n",
       "dtype: int64"
      ]
     },
     "execution_count": 823,
     "metadata": {},
     "output_type": "execute_result"
    }
   ],
   "source": [
    "df.isnull().sum()"
   ]
  },
  {
   "cell_type": "code",
   "execution_count": 824,
   "id": "5285c1c0",
   "metadata": {},
   "outputs": [
    {
     "data": {
      "text/plain": [
       "0    1139\n",
       "1     448\n",
       "Name: SeriousDlqin2yrs, dtype: int64"
      ]
     },
     "execution_count": 824,
     "metadata": {},
     "output_type": "execute_result"
    }
   ],
   "source": [
    "df[df['NumberOfOpenCreditLinesAndLoans']==0]['SeriousDlqin2yrs'].value_counts()"
   ]
  },
  {
   "cell_type": "code",
   "execution_count": 825,
   "id": "9063f4ce",
   "metadata": {},
   "outputs": [
    {
     "data": {
      "text/plain": [
       "<Axes: ylabel='age'>"
      ]
     },
     "execution_count": 825,
     "metadata": {},
     "output_type": "execute_result"
    },
    {
     "data": {
      "image/png": "[encoded data removed]",
      "text/plain": [
       "<Figure size 640x480 with 1 Axes>"
      ]
     },
     "metadata": {},
     "output_type": "display_data"
    }
   ],
   "source": [
    "sns.boxplot(y=df['age'])"
   ]
  },
  {
   "cell_type": "code",
   "execution_count": 826,
   "id": "91bb1854",
   "metadata": {},
   "outputs": [],
   "source": [
    "i=df[df['age']==0].index"
   ]
  },
  {
   "cell_type": "code",
   "execution_count": 827,
   "id": "eeed7494",
   "metadata": {},
   "outputs": [],
   "source": [
    "df=df.drop(index=i)"
   ]
  },
  {
   "cell_type": "code",
   "execution_count": 828,
   "id": "c10be8a1",
   "metadata": {},
   "outputs": [
    {
     "data": {
      "text/plain": [
       "<Axes: ylabel='age'>"
      ]
     },
     "execution_count": 828,
     "metadata": {},
     "output_type": "execute_result"
    },
    {
     "data": {
      "image/png": "[encoded data removed]",
      "text/plain": [
       "<Figure size 640x480 with 1 Axes>"
      ]
     },
     "metadata": {},
     "output_type": "display_data"
    }
   ],
   "source": [
    "sns.boxplot(y=df['age'])"
   ]
  },
  {
   "cell_type": "code",
   "execution_count": 829,
   "id": "eb26478a",
   "metadata": {},
   "outputs": [
    {
     "data": {
      "text/plain": [
       "count    145562.000000\n",
       "mean         52.111059\n",
       "std          14.567062\n",
       "min          21.000000\n",
       "25%          41.000000\n",
       "50%          52.000000\n",
       "75%          62.000000\n",
       "max         107.000000\n",
       "Name: age, dtype: float64"
      ]
     },
     "execution_count": 829,
     "metadata": {},
     "output_type": "execute_result"
    }
   ],
   "source": [
    "df['age'].describe()"
   ]
  },
  {
   "cell_type": "code",
   "execution_count": 830,
   "id": "8441dc4a",
   "metadata": {},
   "outputs": [
    {
     "data": {
      "text/plain": [
       "86.0"
      ]
     },
     "execution_count": 830,
     "metadata": {},
     "output_type": "execute_result"
    }
   ],
   "source": [
    "df['age'].quantile(0.99)"
   ]
  },
  {
   "cell_type": "code",
   "execution_count": 831,
   "id": "71a3cda2",
   "metadata": {},
   "outputs": [
    {
     "data": {
      "text/plain": [
       "0    1327\n",
       "1      36\n",
       "Name: SeriousDlqin2yrs, dtype: int64"
      ]
     },
     "execution_count": 831,
     "metadata": {},
     "output_type": "execute_result"
    }
   ],
   "source": [
    "df[df['age']>df['age'].quantile(0.99)]['SeriousDlqin2yrs'].value_counts()"
   ]
  },
  {
   "cell_type": "code",
   "execution_count": 832,
   "id": "6b95af4a",
   "metadata": {},
   "outputs": [
    {
     "data": {
      "image/png": "[encoded data removed]",
      "text/plain": [
       "<Figure size 640x480 with 1 Axes>"
      ]
     },
     "metadata": {},
     "output_type": "display_data"
    }
   ],
   "source": [
    "df.groupby('age')['SeriousDlqin2yrs'].mean().plot();"
   ]
  },
  {
   "cell_type": "code",
   "execution_count": 833,
   "id": "4c319736",
   "metadata": {},
   "outputs": [
    {
     "data": {
      "text/html": [
       "<div>\n",
       "<style scoped>\n",
       "    .dataframe tbody tr th:only-of-type {\n",
       "        vertical-align: middle;\n",
       "    }\n",
       "\n",
       "    .dataframe tbody tr th {\n",
       "        vertical-align: top;\n",
       "    }\n",
       "\n",
       "    .dataframe thead th {\n",
       "        text-align: right;\n",
       "    }\n",
       "</style>\n",
       "<table border=\"1\" class=\"dataframe\">\n",
       "  <thead>\n",
       "    <tr style=\"text-align: right;\">\n",
       "      <th></th>\n",
       "      <th>SeriousDlqin2yrs</th>\n",
       "      <th>MonthlyIncome</th>\n",
       "      <th>DebtRatio</th>\n",
       "    </tr>\n",
       "  </thead>\n",
       "  <tbody>\n",
       "    <tr>\n",
       "      <th>count</th>\n",
       "      <td>1363.000000</td>\n",
       "      <td>1363.000000</td>\n",
       "      <td>1363.000000</td>\n",
       "    </tr>\n",
       "    <tr>\n",
       "      <th>mean</th>\n",
       "      <td>0.026412</td>\n",
       "      <td>5258.922230</td>\n",
       "      <td>154.720648</td>\n",
       "    </tr>\n",
       "    <tr>\n",
       "      <th>std</th>\n",
       "      <td>0.160417</td>\n",
       "      <td>6582.190737</td>\n",
       "      <td>1809.917427</td>\n",
       "    </tr>\n",
       "    <tr>\n",
       "      <th>min</th>\n",
       "      <td>0.000000</td>\n",
       "      <td>0.000000</td>\n",
       "      <td>0.000000</td>\n",
       "    </tr>\n",
       "    <tr>\n",
       "      <th>25%</th>\n",
       "      <td>0.000000</td>\n",
       "      <td>3474.000000</td>\n",
       "      <td>0.003017</td>\n",
       "    </tr>\n",
       "    <tr>\n",
       "      <th>50%</th>\n",
       "      <td>0.000000</td>\n",
       "      <td>5400.000000</td>\n",
       "      <td>0.077028</td>\n",
       "    </tr>\n",
       "    <tr>\n",
       "      <th>75%</th>\n",
       "      <td>0.000000</td>\n",
       "      <td>5400.000000</td>\n",
       "      <td>2.261443</td>\n",
       "    </tr>\n",
       "    <tr>\n",
       "      <th>max</th>\n",
       "      <td>1.000000</td>\n",
       "      <td>203500.000000</td>\n",
       "      <td>61106.500000</td>\n",
       "    </tr>\n",
       "  </tbody>\n",
       "</table>\n",
       "</div>"
      ],
      "text/plain": [
       "       SeriousDlqin2yrs  MonthlyIncome     DebtRatio\n",
       "count       1363.000000    1363.000000   1363.000000\n",
       "mean           0.026412    5258.922230    154.720648\n",
       "std            0.160417    6582.190737   1809.917427\n",
       "min            0.000000       0.000000      0.000000\n",
       "25%            0.000000    3474.000000      0.003017\n",
       "50%            0.000000    5400.000000      0.077028\n",
       "75%            0.000000    5400.000000      2.261443\n",
       "max            1.000000  203500.000000  61106.500000"
      ]
     },
     "execution_count": 833,
     "metadata": {},
     "output_type": "execute_result"
    }
   ],
   "source": [
    "df[df['age']>df['age'].quantile(0.99)][['SeriousDlqin2yrs','MonthlyIncome','DebtRatio']].describe()"
   ]
  },
  {
   "cell_type": "code",
   "execution_count": 834,
   "id": "b31086b1",
   "metadata": {},
   "outputs": [],
   "source": [
    "i=df[df['age']>df['age'].quantile(0.99)].index"
   ]
  },
  {
   "cell_type": "code",
   "execution_count": 835,
   "id": "e2dd60a2",
   "metadata": {},
   "outputs": [],
   "source": [
    "df=df.drop(index=i)"
   ]
  },
  {
   "cell_type": "code",
   "execution_count": 836,
   "id": "7b53d0a1",
   "metadata": {},
   "outputs": [
    {
     "data": {
      "text/plain": [
       "count    144199.000000\n",
       "mean         51.756371\n",
       "std          14.166937\n",
       "min          21.000000\n",
       "25%          41.000000\n",
       "50%          51.000000\n",
       "75%          62.000000\n",
       "max          86.000000\n",
       "Name: age, dtype: float64"
      ]
     },
     "execution_count": 836,
     "metadata": {},
     "output_type": "execute_result"
    }
   ],
   "source": [
    "df['age'].describe()"
   ]
  },
  {
   "cell_type": "code",
   "execution_count": 837,
   "id": "8fb05676",
   "metadata": {},
   "outputs": [
    {
     "data": {
      "text/plain": [
       "count    144199.000000\n",
       "mean          5.988423\n",
       "std         251.673520\n",
       "min           0.000000\n",
       "25%           0.032069\n",
       "50%           0.162095\n",
       "75%           0.565676\n",
       "max       50708.000000\n",
       "Name: RevolvingUtilizationOfUnsecuredLines, dtype: float64"
      ]
     },
     "execution_count": 837,
     "metadata": {},
     "output_type": "execute_result"
    }
   ],
   "source": [
    "df.RevolvingUtilizationOfUnsecuredLines.describe()\n"
   ]
  },
  {
   "cell_type": "code",
   "execution_count": 838,
   "id": "29abe4b7",
   "metadata": {},
   "outputs": [
    {
     "data": {
      "text/plain": [
       "<Axes: >"
      ]
     },
     "execution_count": 838,
     "metadata": {},
     "output_type": "execute_result"
    },
    {
     "data": {
      "image/png": "[encoded data removed]",
      "text/plain": [
       "<Figure size 640x480 with 1 Axes>"
      ]
     },
     "metadata": {},
     "output_type": "display_data"
    }
   ],
   "source": [
    "sns.boxplot(df['RevolvingUtilizationOfUnsecuredLines'])"
   ]
  },
  {
   "cell_type": "code",
   "execution_count": 839,
   "id": "f40c7839",
   "metadata": {},
   "outputs": [
    {
     "data": {
      "text/plain": [
       "1.0951845640999989"
      ]
     },
     "execution_count": 839,
     "metadata": {},
     "output_type": "execute_result"
    }
   ],
   "source": [
    "df['RevolvingUtilizationOfUnsecuredLines'].quantile(0.99)"
   ]
  },
  {
   "cell_type": "code",
   "execution_count": 840,
   "id": "cb404016",
   "metadata": {},
   "outputs": [
    {
     "data": {
      "text/plain": [
       "0    200\n",
       "1     11\n",
       "Name: SeriousDlqin2yrs, dtype: int64"
      ]
     },
     "execution_count": 840,
     "metadata": {},
     "output_type": "execute_result"
    }
   ],
   "source": [
    "df[df['RevolvingUtilizationOfUnsecuredLines']>100]['SeriousDlqin2yrs'].value_counts()"
   ]
  },
  {
   "cell_type": "code",
   "execution_count": 841,
   "id": "3c207595",
   "metadata": {},
   "outputs": [
    {
     "name": "stdout",
     "output_type": "stream",
     "text": [
      "probability of default for utilization less than 10:  0.06795010695335722\n",
      "probability of default for utilization less than 10:  0.052132701421800945\n"
     ]
    }
   ],
   "source": [
    "one_less=df[df['RevolvingUtilizationOfUnsecuredLines']<100]['SeriousDlqin2yrs'].mean()\n",
    "one_more=df[df['RevolvingUtilizationOfUnsecuredLines']>100]['SeriousDlqin2yrs'].mean()\n",
    "\n",
    "print('probability of default for utilization less than 10: ',one_less)\n",
    "print('probability of default for utilization less than 10: ',one_more)"
   ]
  },
  {
   "cell_type": "code",
   "execution_count": 842,
   "id": "436cd17b",
   "metadata": {},
   "outputs": [
    {
     "data": {
      "text/plain": [
       "<Axes: >"
      ]
     },
     "execution_count": 842,
     "metadata": {},
     "output_type": "execute_result"
    },
    {
     "data": {
      "image/png": "[encoded data removed]",
      "text/plain": [
       "<Figure size 640x480 with 1 Axes>"
      ]
     },
     "metadata": {},
     "output_type": "display_data"
    }
   ],
   "source": [
    "sns.boxplot(df['RevolvingUtilizationOfUnsecuredLines'])"
   ]
  },
  {
   "cell_type": "code",
   "execution_count": 843,
   "id": "5826d2bd",
   "metadata": {},
   "outputs": [
    {
     "data": {
      "text/plain": [
       "NumberOfTime30-59DaysPastDueNotWorse\n",
       "0     120760\n",
       "1      15666\n",
       "2       4525\n",
       "3       1734\n",
       "4        733\n",
       "5        338\n",
       "6        138\n",
       "7         53\n",
       "8         25\n",
       "9         11\n",
       "10         4\n",
       "11         1\n",
       "12         2\n",
       "13         1\n",
       "96         5\n",
       "98       203\n",
       "dtype: int64"
      ]
     },
     "execution_count": 843,
     "metadata": {},
     "output_type": "execute_result"
    }
   ],
   "source": [
    "df.groupby(['NumberOfTime30-59DaysPastDueNotWorse']).size()\n"
   ]
  },
  {
   "cell_type": "code",
   "execution_count": 844,
   "id": "d10a8bf9",
   "metadata": {},
   "outputs": [
    {
     "data": {
      "text/plain": [
       "NumberOfTime60-89DaysPastDueNotWorse\n",
       "0     136800\n",
       "1       5615\n",
       "2       1101\n",
       "3        311\n",
       "4        105\n",
       "5         31\n",
       "6         16\n",
       "7          8\n",
       "8          2\n",
       "9          1\n",
       "11         1\n",
       "96         5\n",
       "98       203\n",
       "dtype: int64"
      ]
     },
     "execution_count": 844,
     "metadata": {},
     "output_type": "execute_result"
    }
   ],
   "source": [
    "df.groupby(['NumberOfTime60-89DaysPastDueNotWorse']).size()"
   ]
  },
  {
   "cell_type": "code",
   "execution_count": 845,
   "id": "18bd1d37",
   "metadata": {},
   "outputs": [
    {
     "data": {
      "text/plain": [
       "NumberOfTimes90DaysLate\n",
       "0     136111\n",
       "1       5113\n",
       "2       1521\n",
       "3        651\n",
       "4        288\n",
       "5        127\n",
       "6         79\n",
       "7         37\n",
       "8         21\n",
       "9         19\n",
       "10         8\n",
       "11         5\n",
       "12         2\n",
       "13         4\n",
       "14         2\n",
       "15         2\n",
       "17         1\n",
       "96         5\n",
       "98       203\n",
       "dtype: int64"
      ]
     },
     "execution_count": 845,
     "metadata": {},
     "output_type": "execute_result"
    }
   ],
   "source": [
    "df.groupby(['NumberOfTimes90DaysLate']).size()"
   ]
  },
  {
   "cell_type": "code",
   "execution_count": 846,
   "id": "00a5c97f",
   "metadata": {},
   "outputs": [
    {
     "data": {
      "text/plain": [
       "SeriousDlqin2yrs\n",
       "0     83\n",
       "1    125\n",
       "dtype: int64"
      ]
     },
     "execution_count": 846,
     "metadata": {},
     "output_type": "execute_result"
    }
   ],
   "source": [
    "df[df['NumberOfTimes90DaysLate']>=96].groupby(['SeriousDlqin2yrs']).size()"
   ]
  },
  {
   "cell_type": "code",
   "execution_count": 847,
   "id": "bf725af5",
   "metadata": {},
   "outputs": [
    {
     "data": {
      "text/plain": [
       "count    144199.000000\n",
       "mean        336.250337\n",
       "std        1948.413142\n",
       "min           0.000000\n",
       "25%           0.176290\n",
       "50%           0.360252\n",
       "75%           0.768594\n",
       "max      329664.000000\n",
       "Name: DebtRatio, dtype: float64"
      ]
     },
     "execution_count": 847,
     "metadata": {},
     "output_type": "execute_result"
    }
   ],
   "source": [
    "df['DebtRatio'].describe()"
   ]
  },
  {
   "cell_type": "code",
   "execution_count": 848,
   "id": "6c1d6ecf",
   "metadata": {},
   "outputs": [
    {
     "data": {
      "text/plain": [
       "<Axes: >"
      ]
     },
     "execution_count": 848,
     "metadata": {},
     "output_type": "execute_result"
    },
    {
     "data": {
      "image/png": "[encoded data removed]",
      "text/plain": [
       "<Figure size 640x480 with 1 Axes>"
      ]
     },
     "metadata": {},
     "output_type": "display_data"
    }
   ],
   "source": [
    "sns.boxplot(df['DebtRatio'])"
   ]
  },
  {
   "cell_type": "code",
   "execution_count": 849,
   "id": "e2e21228",
   "metadata": {},
   "outputs": [
    {
     "data": {
      "text/html": [
       "<div>\n",
       "<style scoped>\n",
       "    .dataframe tbody tr th:only-of-type {\n",
       "        vertical-align: middle;\n",
       "    }\n",
       "\n",
       "    .dataframe tbody tr th {\n",
       "        vertical-align: top;\n",
       "    }\n",
       "\n",
       "    .dataframe thead th {\n",
       "        text-align: right;\n",
       "    }\n",
       "</style>\n",
       "<table border=\"1\" class=\"dataframe\">\n",
       "  <thead>\n",
       "    <tr style=\"text-align: right;\">\n",
       "      <th></th>\n",
       "      <th>SeriousDlqin2yrs</th>\n",
       "      <th>MonthlyIncome</th>\n",
       "    </tr>\n",
       "  </thead>\n",
       "  <tbody>\n",
       "    <tr>\n",
       "      <th>count</th>\n",
       "      <td>140594.000000</td>\n",
       "      <td>1.405940e+05</td>\n",
       "    </tr>\n",
       "    <tr>\n",
       "      <th>mean</th>\n",
       "      <td>0.068004</td>\n",
       "      <td>6.498411e+03</td>\n",
       "    </tr>\n",
       "    <tr>\n",
       "      <th>std</th>\n",
       "      <td>0.251754</td>\n",
       "      <td>1.329304e+04</td>\n",
       "    </tr>\n",
       "    <tr>\n",
       "      <th>min</th>\n",
       "      <td>0.000000</td>\n",
       "      <td>0.000000e+00</td>\n",
       "    </tr>\n",
       "    <tr>\n",
       "      <th>25%</th>\n",
       "      <td>0.000000</td>\n",
       "      <td>3.785000e+03</td>\n",
       "    </tr>\n",
       "    <tr>\n",
       "      <th>50%</th>\n",
       "      <td>0.000000</td>\n",
       "      <td>5.400000e+03</td>\n",
       "    </tr>\n",
       "    <tr>\n",
       "      <th>75%</th>\n",
       "      <td>0.000000</td>\n",
       "      <td>7.600000e+03</td>\n",
       "    </tr>\n",
       "    <tr>\n",
       "      <th>max</th>\n",
       "      <td>1.000000</td>\n",
       "      <td>3.008750e+06</td>\n",
       "    </tr>\n",
       "  </tbody>\n",
       "</table>\n",
       "</div>"
      ],
      "text/plain": [
       "       SeriousDlqin2yrs  MonthlyIncome\n",
       "count     140594.000000   1.405940e+05\n",
       "mean           0.068004   6.498411e+03\n",
       "std            0.251754   1.329304e+04\n",
       "min            0.000000   0.000000e+00\n",
       "25%            0.000000   3.785000e+03\n",
       "50%            0.000000   5.400000e+03\n",
       "75%            0.000000   7.600000e+03\n",
       "max            1.000000   3.008750e+06"
      ]
     },
     "execution_count": 849,
     "metadata": {},
     "output_type": "execute_result"
    }
   ],
   "source": [
    "df[df['DebtRatio']<df['DebtRatio'].quantile(.975)][['SeriousDlqin2yrs','MonthlyIncome']].describe()"
   ]
  },
  {
   "cell_type": "code",
   "execution_count": 850,
   "id": "bb7f62e8",
   "metadata": {},
   "outputs": [],
   "source": [
    "## The delinquency is peaking at 0.975 quantile of DebtRatio, hence it's prudent to remove the outliers beyond that point."
   ]
  },
  {
   "cell_type": "code",
   "execution_count": 851,
   "id": "a984334a",
   "metadata": {},
   "outputs": [
    {
     "data": {
      "text/html": [
       "<div>\n",
       "<style scoped>\n",
       "    .dataframe tbody tr th:only-of-type {\n",
       "        vertical-align: middle;\n",
       "    }\n",
       "\n",
       "    .dataframe tbody tr th {\n",
       "        vertical-align: top;\n",
       "    }\n",
       "\n",
       "    .dataframe thead th {\n",
       "        text-align: right;\n",
       "    }\n",
       "</style>\n",
       "<table border=\"1\" class=\"dataframe\">\n",
       "  <thead>\n",
       "    <tr style=\"text-align: right;\">\n",
       "      <th></th>\n",
       "      <th>SeriousDlqin2yrs</th>\n",
       "      <th>DebtRatio</th>\n",
       "    </tr>\n",
       "  </thead>\n",
       "  <tbody>\n",
       "    <tr>\n",
       "      <th>count</th>\n",
       "      <td>1601.000000</td>\n",
       "      <td>1601.000000</td>\n",
       "    </tr>\n",
       "    <tr>\n",
       "      <th>mean</th>\n",
       "      <td>0.039975</td>\n",
       "      <td>1591.589631</td>\n",
       "    </tr>\n",
       "    <tr>\n",
       "      <th>std</th>\n",
       "      <td>0.195962</td>\n",
       "      <td>2797.685119</td>\n",
       "    </tr>\n",
       "    <tr>\n",
       "      <th>min</th>\n",
       "      <td>0.000000</td>\n",
       "      <td>0.000000</td>\n",
       "    </tr>\n",
       "    <tr>\n",
       "      <th>25%</th>\n",
       "      <td>0.000000</td>\n",
       "      <td>120.000000</td>\n",
       "    </tr>\n",
       "    <tr>\n",
       "      <th>50%</th>\n",
       "      <td>0.000000</td>\n",
       "      <td>959.000000</td>\n",
       "    </tr>\n",
       "    <tr>\n",
       "      <th>75%</th>\n",
       "      <td>0.000000</td>\n",
       "      <td>2211.000000</td>\n",
       "    </tr>\n",
       "    <tr>\n",
       "      <th>max</th>\n",
       "      <td>1.000000</td>\n",
       "      <td>60212.000000</td>\n",
       "    </tr>\n",
       "  </tbody>\n",
       "</table>\n",
       "</div>"
      ],
      "text/plain": [
       "       SeriousDlqin2yrs     DebtRatio\n",
       "count       1601.000000   1601.000000\n",
       "mean           0.039975   1591.589631\n",
       "std            0.195962   2797.685119\n",
       "min            0.000000      0.000000\n",
       "25%            0.000000    120.000000\n",
       "50%            0.000000    959.000000\n",
       "75%            0.000000   2211.000000\n",
       "max            1.000000  60212.000000"
      ]
     },
     "execution_count": 851,
     "metadata": {},
     "output_type": "execute_result"
    }
   ],
   "source": [
    "df[df['MonthlyIncome']==0][['SeriousDlqin2yrs','DebtRatio']].describe()"
   ]
  },
  {
   "cell_type": "code",
   "execution_count": 852,
   "id": "9aea895b",
   "metadata": {},
   "outputs": [
    {
     "data": {
      "text/plain": [
       "(144199, 11)"
      ]
     },
     "execution_count": 852,
     "metadata": {},
     "output_type": "execute_result"
    }
   ],
   "source": [
    "df.shape"
   ]
  },
  {
   "cell_type": "code",
   "execution_count": 853,
   "id": "203f687a",
   "metadata": {},
   "outputs": [
    {
     "data": {
      "text/plain": [
       "count    140594.000000\n",
       "mean        196.406717\n",
       "std         602.109471\n",
       "min           0.000000\n",
       "25%           0.171305\n",
       "50%           0.350274\n",
       "75%           0.695059\n",
       "max        3453.000000\n",
       "Name: DebtRatio, dtype: float64"
      ]
     },
     "execution_count": 853,
     "metadata": {},
     "output_type": "execute_result"
    }
   ],
   "source": [
    "df[(df['DebtRatio']<df['DebtRatio'].quantile(.975))]['DebtRatio'].describe()"
   ]
  },
  {
   "cell_type": "code",
   "execution_count": 854,
   "id": "a9a8e08b",
   "metadata": {},
   "outputs": [
    {
     "data": {
      "image/png": "[encoded data removed]",
      "text/plain": [
       "<Figure size 640x480 with 1 Axes>"
      ]
     },
     "metadata": {},
     "output_type": "display_data"
    }
   ],
   "source": [
    "df.groupby('DebtRatio')['SeriousDlqin2yrs'].mean().plot();"
   ]
  },
  {
   "cell_type": "code",
   "execution_count": 855,
   "id": "337e5c3d",
   "metadata": {},
   "outputs": [
    {
     "data": {
      "text/plain": [
       "0    131033\n",
       "1      9561\n",
       "Name: SeriousDlqin2yrs, dtype: int64"
      ]
     },
     "execution_count": 855,
     "metadata": {},
     "output_type": "execute_result"
    }
   ],
   "source": [
    "df[(df['DebtRatio']<df['DebtRatio'].quantile(.975))]['SeriousDlqin2yrs'].value_counts()"
   ]
  },
  {
   "cell_type": "code",
   "execution_count": 856,
   "id": "18d1a7ef",
   "metadata": {},
   "outputs": [],
   "source": [
    "df1=df.drop(df[(df['DebtRatio']>df['DebtRatio'].quantile(.975))].index)"
   ]
  },
  {
   "cell_type": "code",
   "execution_count": 857,
   "id": "64fea4a9",
   "metadata": {},
   "outputs": [
    {
     "data": {
      "text/plain": [
       "(140594, 11)"
      ]
     },
     "execution_count": 857,
     "metadata": {},
     "output_type": "execute_result"
    }
   ],
   "source": [
    "df1.shape"
   ]
  },
  {
   "cell_type": "code",
   "execution_count": 858,
   "id": "26feef42",
   "metadata": {},
   "outputs": [
    {
     "data": {
      "text/plain": [
       "0    131033\n",
       "1      9561\n",
       "Name: SeriousDlqin2yrs, dtype: int64"
      ]
     },
     "execution_count": 858,
     "metadata": {},
     "output_type": "execute_result"
    }
   ],
   "source": [
    "df1['SeriousDlqin2yrs'].value_counts()"
   ]
  },
  {
   "cell_type": "code",
   "execution_count": 859,
   "id": "8a8bbd36",
   "metadata": {},
   "outputs": [
    {
     "data": {
      "image/png": "[encoded data removed]",
      "text/plain": [
       "<Figure size 640x480 with 1 Axes>"
      ]
     },
     "metadata": {},
     "output_type": "display_data"
    }
   ],
   "source": [
    "df1.groupby('age')['MonthlyIncome'].sum().plot();"
   ]
  },
  {
   "cell_type": "code",
   "execution_count": 860,
   "id": "524019d7",
   "metadata": {},
   "outputs": [
    {
     "data": {
      "image/png": "[encoded data removed]",
      "text/plain": [
       "<Figure size 640x480 with 1 Axes>"
      ]
     },
     "metadata": {},
     "output_type": "display_data"
    }
   ],
   "source": [
    "df1.groupby('age')['SeriousDlqin2yrs'].mean().plot();"
   ]
  },
  {
   "cell_type": "code",
   "execution_count": 861,
   "id": "1d030760",
   "metadata": {},
   "outputs": [
    {
     "data": {
      "text/html": [
       "<div>\n",
       "<style scoped>\n",
       "    .dataframe tbody tr th:only-of-type {\n",
       "        vertical-align: middle;\n",
       "    }\n",
       "\n",
       "    .dataframe tbody tr th {\n",
       "        vertical-align: top;\n",
       "    }\n",
       "\n",
       "    .dataframe thead th {\n",
       "        text-align: right;\n",
       "    }\n",
       "</style>\n",
       "<table border=\"1\" class=\"dataframe\">\n",
       "  <thead>\n",
       "    <tr style=\"text-align: right;\">\n",
       "      <th></th>\n",
       "      <th>SeriousDlqin2yrs</th>\n",
       "      <th>RevolvingUtilizationOfUnsecuredLines</th>\n",
       "      <th>age</th>\n",
       "      <th>NumberOfTime30-59DaysPastDueNotWorse</th>\n",
       "      <th>DebtRatio</th>\n",
       "      <th>MonthlyIncome</th>\n",
       "      <th>NumberOfOpenCreditLinesAndLoans</th>\n",
       "      <th>NumberOfTimes90DaysLate</th>\n",
       "      <th>NumberRealEstateLoansOrLines</th>\n",
       "      <th>NumberOfTime60-89DaysPastDueNotWorse</th>\n",
       "      <th>NumberOfDependents</th>\n",
       "    </tr>\n",
       "  </thead>\n",
       "  <tbody>\n",
       "    <tr>\n",
       "      <th>0</th>\n",
       "      <td>1</td>\n",
       "      <td>0.766127</td>\n",
       "      <td>45</td>\n",
       "      <td>2</td>\n",
       "      <td>0.802982</td>\n",
       "      <td>9120.0</td>\n",
       "      <td>13</td>\n",
       "      <td>0</td>\n",
       "      <td>6</td>\n",
       "      <td>0</td>\n",
       "      <td>2.0</td>\n",
       "    </tr>\n",
       "    <tr>\n",
       "      <th>1</th>\n",
       "      <td>0</td>\n",
       "      <td>0.957151</td>\n",
       "      <td>40</td>\n",
       "      <td>0</td>\n",
       "      <td>0.121876</td>\n",
       "      <td>2600.0</td>\n",
       "      <td>4</td>\n",
       "      <td>0</td>\n",
       "      <td>0</td>\n",
       "      <td>0</td>\n",
       "      <td>1.0</td>\n",
       "    </tr>\n",
       "    <tr>\n",
       "      <th>2</th>\n",
       "      <td>0</td>\n",
       "      <td>0.658180</td>\n",
       "      <td>38</td>\n",
       "      <td>1</td>\n",
       "      <td>0.085113</td>\n",
       "      <td>3042.0</td>\n",
       "      <td>2</td>\n",
       "      <td>1</td>\n",
       "      <td>0</td>\n",
       "      <td>0</td>\n",
       "      <td>0.0</td>\n",
       "    </tr>\n",
       "    <tr>\n",
       "      <th>3</th>\n",
       "      <td>0</td>\n",
       "      <td>0.233810</td>\n",
       "      <td>30</td>\n",
       "      <td>0</td>\n",
       "      <td>0.036050</td>\n",
       "      <td>3300.0</td>\n",
       "      <td>5</td>\n",
       "      <td>0</td>\n",
       "      <td>0</td>\n",
       "      <td>0</td>\n",
       "      <td>0.0</td>\n",
       "    </tr>\n",
       "    <tr>\n",
       "      <th>4</th>\n",
       "      <td>0</td>\n",
       "      <td>0.907239</td>\n",
       "      <td>49</td>\n",
       "      <td>1</td>\n",
       "      <td>0.024926</td>\n",
       "      <td>63588.0</td>\n",
       "      <td>7</td>\n",
       "      <td>0</td>\n",
       "      <td>1</td>\n",
       "      <td>0</td>\n",
       "      <td>0.0</td>\n",
       "    </tr>\n",
       "  </tbody>\n",
       "</table>\n",
       "</div>"
      ],
      "text/plain": [
       "   SeriousDlqin2yrs  RevolvingUtilizationOfUnsecuredLines  age  \\\n",
       "0                 1                              0.766127   45   \n",
       "1                 0                              0.957151   40   \n",
       "2                 0                              0.658180   38   \n",
       "3                 0                              0.233810   30   \n",
       "4                 0                              0.907239   49   \n",
       "\n",
       "   NumberOfTime30-59DaysPastDueNotWorse  DebtRatio  MonthlyIncome  \\\n",
       "0                                     2   0.802982         9120.0   \n",
       "1                                     0   0.121876         2600.0   \n",
       "2                                     1   0.085113         3042.0   \n",
       "3                                     0   0.036050         3300.0   \n",
       "4                                     1   0.024926        63588.0   \n",
       "\n",
       "   NumberOfOpenCreditLinesAndLoans  NumberOfTimes90DaysLate  \\\n",
       "0                               13                        0   \n",
       "1                                4                        0   \n",
       "2                                2                        1   \n",
       "3                                5                        0   \n",
       "4                                7                        0   \n",
       "\n",
       "   NumberRealEstateLoansOrLines  NumberOfTime60-89DaysPastDueNotWorse  \\\n",
       "0                             6                                     0   \n",
       "1                             0                                     0   \n",
       "2                             0                                     0   \n",
       "3                             0                                     0   \n",
       "4                             1                                     0   \n",
       "\n",
       "   NumberOfDependents  \n",
       "0                 2.0  \n",
       "1                 1.0  \n",
       "2                 0.0  \n",
       "3                 0.0  \n",
       "4                 0.0  "
      ]
     },
     "execution_count": 861,
     "metadata": {},
     "output_type": "execute_result"
    }
   ],
   "source": [
    "df1.head()"
   ]
  },
  {
   "cell_type": "code",
   "execution_count": 862,
   "id": "4c6f8473",
   "metadata": {},
   "outputs": [
    {
     "data": {
      "text/plain": [
       "<Axes: xlabel='RevolvingUtilizationOfUnsecuredLines'>"
      ]
     },
     "execution_count": 862,
     "metadata": {},
     "output_type": "execute_result"
    },
    {
     "data": {
      "image/png": "[encoded data removed]",
      "text/plain": [
       "<Figure size 640x480 with 1 Axes>"
      ]
     },
     "metadata": {},
     "output_type": "display_data"
    }
   ],
   "source": [
    "df1.groupby('RevolvingUtilizationOfUnsecuredLines')['SeriousDlqin2yrs'].mean().plot()"
   ]
  },
  {
   "cell_type": "code",
   "execution_count": 863,
   "id": "13f3c7d4",
   "metadata": {},
   "outputs": [
    {
     "data": {
      "text/plain": [
       "1164.7680000001565"
      ]
     },
     "execution_count": 863,
     "metadata": {},
     "output_type": "execute_result"
    }
   ],
   "source": [
    "df1['RevolvingUtilizationOfUnsecuredLines'].quantile(.999)"
   ]
  },
  {
   "cell_type": "code",
   "execution_count": 864,
   "id": "ac726ef4",
   "metadata": {},
   "outputs": [
    {
     "data": {
      "text/plain": [
       "count      141.000000\n",
       "mean      5122.226950\n",
       "std       5946.903074\n",
       "min       1179.000000\n",
       "25%       1982.000000\n",
       "50%       3484.000000\n",
       "75%       5893.000000\n",
       "max      50708.000000\n",
       "Name: RevolvingUtilizationOfUnsecuredLines, dtype: float64"
      ]
     },
     "execution_count": 864,
     "metadata": {},
     "output_type": "execute_result"
    }
   ],
   "source": [
    "df1[(df1['RevolvingUtilizationOfUnsecuredLines']>df1['RevolvingUtilizationOfUnsecuredLines'].quantile(.999))]['RevolvingUtilizationOfUnsecuredLines'].describe()"
   ]
  },
  {
   "cell_type": "code",
   "execution_count": 865,
   "id": "066d3050",
   "metadata": {},
   "outputs": [
    {
     "data": {
      "text/plain": [
       "0.05673758865248227"
      ]
     },
     "execution_count": 865,
     "metadata": {},
     "output_type": "execute_result"
    }
   ],
   "source": [
    "df1[(df1['RevolvingUtilizationOfUnsecuredLines']>df1['RevolvingUtilizationOfUnsecuredLines'].quantile(.999))]['SeriousDlqin2yrs'].mean()"
   ]
  },
  {
   "cell_type": "code",
   "execution_count": 866,
   "id": "447d6ca8",
   "metadata": {},
   "outputs": [],
   "source": [
    "df2=df1.drop(df1[(df1['RevolvingUtilizationOfUnsecuredLines']>df1['RevolvingUtilizationOfUnsecuredLines'].quantile(.999))].index)"
   ]
  },
  {
   "cell_type": "code",
   "execution_count": 867,
   "id": "3a2c7ea7",
   "metadata": {},
   "outputs": [
    {
     "data": {
      "text/plain": [
       "(140453, 11)"
      ]
     },
     "execution_count": 867,
     "metadata": {},
     "output_type": "execute_result"
    }
   ],
   "source": [
    "df2.shape"
   ]
  },
  {
   "cell_type": "code",
   "execution_count": 868,
   "id": "a4d9f2c0",
   "metadata": {},
   "outputs": [
    {
     "data": {
      "text/html": [
       "<div>\n",
       "<style scoped>\n",
       "    .dataframe tbody tr th:only-of-type {\n",
       "        vertical-align: middle;\n",
       "    }\n",
       "\n",
       "    .dataframe tbody tr th {\n",
       "        vertical-align: top;\n",
       "    }\n",
       "\n",
       "    .dataframe thead th {\n",
       "        text-align: right;\n",
       "    }\n",
       "</style>\n",
       "<table border=\"1\" class=\"dataframe\">\n",
       "  <thead>\n",
       "    <tr style=\"text-align: right;\">\n",
       "      <th></th>\n",
       "      <th>SeriousDlqin2yrs</th>\n",
       "      <th>RevolvingUtilizationOfUnsecuredLines</th>\n",
       "      <th>age</th>\n",
       "      <th>NumberOfTime30-59DaysPastDueNotWorse</th>\n",
       "      <th>DebtRatio</th>\n",
       "      <th>MonthlyIncome</th>\n",
       "      <th>NumberOfOpenCreditLinesAndLoans</th>\n",
       "      <th>NumberOfTimes90DaysLate</th>\n",
       "      <th>NumberRealEstateLoansOrLines</th>\n",
       "      <th>NumberOfTime60-89DaysPastDueNotWorse</th>\n",
       "      <th>NumberOfDependents</th>\n",
       "    </tr>\n",
       "  </thead>\n",
       "  <tbody>\n",
       "    <tr>\n",
       "      <th>SeriousDlqin2yrs</th>\n",
       "      <td>1.000000</td>\n",
       "      <td>0.004894</td>\n",
       "      <td>-0.114079</td>\n",
       "      <td>0.130070</td>\n",
       "      <td>-0.025427</td>\n",
       "      <td>-0.018054</td>\n",
       "      <td>-0.035377</td>\n",
       "      <td>0.121395</td>\n",
       "      <td>-0.011284</td>\n",
       "      <td>0.104570</td>\n",
       "      <td>0.046236</td>\n",
       "    </tr>\n",
       "    <tr>\n",
       "      <th>RevolvingUtilizationOfUnsecuredLines</th>\n",
       "      <td>0.004894</td>\n",
       "      <td>1.000000</td>\n",
       "      <td>-0.006189</td>\n",
       "      <td>0.001383</td>\n",
       "      <td>-0.001059</td>\n",
       "      <td>0.000526</td>\n",
       "      <td>-0.014826</td>\n",
       "      <td>0.001478</td>\n",
       "      <td>-0.001626</td>\n",
       "      <td>0.001173</td>\n",
       "      <td>-0.002546</td>\n",
       "    </tr>\n",
       "    <tr>\n",
       "      <th>age</th>\n",
       "      <td>-0.114079</td>\n",
       "      <td>-0.006189</td>\n",
       "      <td>1.000000</td>\n",
       "      <td>-0.052791</td>\n",
       "      <td>0.048617</td>\n",
       "      <td>0.032654</td>\n",
       "      <td>0.171669</td>\n",
       "      <td>-0.051141</td>\n",
       "      <td>0.056392</td>\n",
       "      <td>-0.046779</td>\n",
       "      <td>-0.207784</td>\n",
       "    </tr>\n",
       "    <tr>\n",
       "      <th>NumberOfTime30-59DaysPastDueNotWorse</th>\n",
       "      <td>0.130070</td>\n",
       "      <td>0.001383</td>\n",
       "      <td>-0.052791</td>\n",
       "      <td>1.000000</td>\n",
       "      <td>-0.014654</td>\n",
       "      <td>-0.008742</td>\n",
       "      <td>-0.049423</td>\n",
       "      <td>0.979872</td>\n",
       "      <td>-0.027610</td>\n",
       "      <td>0.984125</td>\n",
       "      <td>-0.000033</td>\n",
       "    </tr>\n",
       "    <tr>\n",
       "      <th>DebtRatio</th>\n",
       "      <td>-0.025427</td>\n",
       "      <td>-0.001059</td>\n",
       "      <td>0.048617</td>\n",
       "      <td>-0.014654</td>\n",
       "      <td>1.000000</td>\n",
       "      <td>-0.035981</td>\n",
       "      <td>0.007226</td>\n",
       "      <td>-0.013541</td>\n",
       "      <td>0.060217</td>\n",
       "      <td>-0.012668</td>\n",
       "      <td>-0.094865</td>\n",
       "    </tr>\n",
       "    <tr>\n",
       "      <th>MonthlyIncome</th>\n",
       "      <td>-0.018054</td>\n",
       "      <td>0.000526</td>\n",
       "      <td>0.032654</td>\n",
       "      <td>-0.008742</td>\n",
       "      <td>-0.035981</td>\n",
       "      <td>1.000000</td>\n",
       "      <td>0.089613</td>\n",
       "      <td>-0.011137</td>\n",
       "      <td>0.123458</td>\n",
       "      <td>-0.009700</td>\n",
       "      <td>0.065234</td>\n",
       "    </tr>\n",
       "    <tr>\n",
       "      <th>NumberOfOpenCreditLinesAndLoans</th>\n",
       "      <td>-0.035377</td>\n",
       "      <td>-0.014826</td>\n",
       "      <td>0.171669</td>\n",
       "      <td>-0.049423</td>\n",
       "      <td>0.007226</td>\n",
       "      <td>0.089613</td>\n",
       "      <td>1.000000</td>\n",
       "      <td>-0.076154</td>\n",
       "      <td>0.426312</td>\n",
       "      <td>-0.065921</td>\n",
       "      <td>0.064022</td>\n",
       "    </tr>\n",
       "    <tr>\n",
       "      <th>NumberOfTimes90DaysLate</th>\n",
       "      <td>0.121395</td>\n",
       "      <td>0.001478</td>\n",
       "      <td>-0.051141</td>\n",
       "      <td>0.979872</td>\n",
       "      <td>-0.013541</td>\n",
       "      <td>-0.011137</td>\n",
       "      <td>-0.076154</td>\n",
       "      <td>1.000000</td>\n",
       "      <td>-0.043222</td>\n",
       "      <td>0.991027</td>\n",
       "      <td>-0.007950</td>\n",
       "    </tr>\n",
       "    <tr>\n",
       "      <th>NumberRealEstateLoansOrLines</th>\n",
       "      <td>-0.011284</td>\n",
       "      <td>-0.001626</td>\n",
       "      <td>0.056392</td>\n",
       "      <td>-0.027610</td>\n",
       "      <td>0.060217</td>\n",
       "      <td>0.123458</td>\n",
       "      <td>0.426312</td>\n",
       "      <td>-0.043222</td>\n",
       "      <td>1.000000</td>\n",
       "      <td>-0.036955</td>\n",
       "      <td>0.131667</td>\n",
       "    </tr>\n",
       "    <tr>\n",
       "      <th>NumberOfTime60-89DaysPastDueNotWorse</th>\n",
       "      <td>0.104570</td>\n",
       "      <td>0.001173</td>\n",
       "      <td>-0.046779</td>\n",
       "      <td>0.984125</td>\n",
       "      <td>-0.012668</td>\n",
       "      <td>-0.009700</td>\n",
       "      <td>-0.065921</td>\n",
       "      <td>0.991027</td>\n",
       "      <td>-0.036955</td>\n",
       "      <td>1.000000</td>\n",
       "      <td>-0.008738</td>\n",
       "    </tr>\n",
       "    <tr>\n",
       "      <th>NumberOfDependents</th>\n",
       "      <td>0.046236</td>\n",
       "      <td>-0.002546</td>\n",
       "      <td>-0.207784</td>\n",
       "      <td>-0.000033</td>\n",
       "      <td>-0.094865</td>\n",
       "      <td>0.065234</td>\n",
       "      <td>0.064022</td>\n",
       "      <td>-0.007950</td>\n",
       "      <td>0.131667</td>\n",
       "      <td>-0.008738</td>\n",
       "      <td>1.000000</td>\n",
       "    </tr>\n",
       "  </tbody>\n",
       "</table>\n",
       "</div>"
      ],
      "text/plain": [
       "                                      SeriousDlqin2yrs  \\\n",
       "SeriousDlqin2yrs                              1.000000   \n",
       "RevolvingUtilizationOfUnsecuredLines          0.004894   \n",
       "age                                          -0.114079   \n",
       "NumberOfTime30-59DaysPastDueNotWorse          0.130070   \n",
       "DebtRatio                                    -0.025427   \n",
       "MonthlyIncome                                -0.018054   \n",
       "NumberOfOpenCreditLinesAndLoans              -0.035377   \n",
       "NumberOfTimes90DaysLate                       0.121395   \n",
       "NumberRealEstateLoansOrLines                 -0.011284   \n",
       "NumberOfTime60-89DaysPastDueNotWorse          0.104570   \n",
       "NumberOfDependents                            0.046236   \n",
       "\n",
       "                                      RevolvingUtilizationOfUnsecuredLines  \\\n",
       "SeriousDlqin2yrs                                                  0.004894   \n",
       "RevolvingUtilizationOfUnsecuredLines                              1.000000   \n",
       "age                                                              -0.006189   \n",
       "NumberOfTime30-59DaysPastDueNotWorse                              0.001383   \n",
       "DebtRatio                                                        -0.001059   \n",
       "MonthlyIncome                                                     0.000526   \n",
       "NumberOfOpenCreditLinesAndLoans                                  -0.014826   \n",
       "NumberOfTimes90DaysLate                                           0.001478   \n",
       "NumberRealEstateLoansOrLines                                     -0.001626   \n",
       "NumberOfTime60-89DaysPastDueNotWorse                              0.001173   \n",
       "NumberOfDependents                                               -0.002546   \n",
       "\n",
       "                                           age  \\\n",
       "SeriousDlqin2yrs                     -0.114079   \n",
       "RevolvingUtilizationOfUnsecuredLines -0.006189   \n",
       "age                                   1.000000   \n",
       "NumberOfTime30-59DaysPastDueNotWorse -0.052791   \n",
       "DebtRatio                             0.048617   \n",
       "MonthlyIncome                         0.032654   \n",
       "NumberOfOpenCreditLinesAndLoans       0.171669   \n",
       "NumberOfTimes90DaysLate              -0.051141   \n",
       "NumberRealEstateLoansOrLines          0.056392   \n",
       "NumberOfTime60-89DaysPastDueNotWorse -0.046779   \n",
       "NumberOfDependents                   -0.207784   \n",
       "\n",
       "                                      NumberOfTime30-59DaysPastDueNotWorse  \\\n",
       "SeriousDlqin2yrs                                                  0.130070   \n",
       "RevolvingUtilizationOfUnsecuredLines                              0.001383   \n",
       "age                                                              -0.052791   \n",
       "NumberOfTime30-59DaysPastDueNotWorse                              1.000000   \n",
       "DebtRatio                                                        -0.014654   \n",
       "MonthlyIncome                                                    -0.008742   \n",
       "NumberOfOpenCreditLinesAndLoans                                  -0.049423   \n",
       "NumberOfTimes90DaysLate                                           0.979872   \n",
       "NumberRealEstateLoansOrLines                                     -0.027610   \n",
       "NumberOfTime60-89DaysPastDueNotWorse                              0.984125   \n",
       "NumberOfDependents                                               -0.000033   \n",
       "\n",
       "                                      DebtRatio  MonthlyIncome  \\\n",
       "SeriousDlqin2yrs                      -0.025427      -0.018054   \n",
       "RevolvingUtilizationOfUnsecuredLines  -0.001059       0.000526   \n",
       "age                                    0.048617       0.032654   \n",
       "NumberOfTime30-59DaysPastDueNotWorse  -0.014654      -0.008742   \n",
       "DebtRatio                              1.000000      -0.035981   \n",
       "MonthlyIncome                         -0.035981       1.000000   \n",
       "NumberOfOpenCreditLinesAndLoans        0.007226       0.089613   \n",
       "NumberOfTimes90DaysLate               -0.013541      -0.011137   \n",
       "NumberRealEstateLoansOrLines           0.060217       0.123458   \n",
       "NumberOfTime60-89DaysPastDueNotWorse  -0.012668      -0.009700   \n",
       "NumberOfDependents                    -0.094865       0.065234   \n",
       "\n",
       "                                      NumberOfOpenCreditLinesAndLoans  \\\n",
       "SeriousDlqin2yrs                                            -0.035377   \n",
       "RevolvingUtilizationOfUnsecuredLines                        -0.014826   \n",
       "age                                                          0.171669   \n",
       "NumberOfTime30-59DaysPastDueNotWorse                        -0.049423   \n",
       "DebtRatio                                                    0.007226   \n",
       "MonthlyIncome                                                0.089613   \n",
       "NumberOfOpenCreditLinesAndLoans                              1.000000   \n",
       "NumberOfTimes90DaysLate                                     -0.076154   \n",
       "NumberRealEstateLoansOrLines                                 0.426312   \n",
       "NumberOfTime60-89DaysPastDueNotWorse                        -0.065921   \n",
       "NumberOfDependents                                           0.064022   \n",
       "\n",
       "                                      NumberOfTimes90DaysLate  \\\n",
       "SeriousDlqin2yrs                                     0.121395   \n",
       "RevolvingUtilizationOfUnsecuredLines                 0.001478   \n",
       "age                                                 -0.051141   \n",
       "NumberOfTime30-59DaysPastDueNotWorse                 0.979872   \n",
       "DebtRatio                                           -0.013541   \n",
       "MonthlyIncome                                       -0.011137   \n",
       "NumberOfOpenCreditLinesAndLoans                     -0.076154   \n",
       "NumberOfTimes90DaysLate                              1.000000   \n",
       "NumberRealEstateLoansOrLines                        -0.043222   \n",
       "NumberOfTime60-89DaysPastDueNotWorse                 0.991027   \n",
       "NumberOfDependents                                  -0.007950   \n",
       "\n",
       "                                      NumberRealEstateLoansOrLines  \\\n",
       "SeriousDlqin2yrs                                         -0.011284   \n",
       "RevolvingUtilizationOfUnsecuredLines                     -0.001626   \n",
       "age                                                       0.056392   \n",
       "NumberOfTime30-59DaysPastDueNotWorse                     -0.027610   \n",
       "DebtRatio                                                 0.060217   \n",
       "MonthlyIncome                                             0.123458   \n",
       "NumberOfOpenCreditLinesAndLoans                           0.426312   \n",
       "NumberOfTimes90DaysLate                                  -0.043222   \n",
       "NumberRealEstateLoansOrLines                              1.000000   \n",
       "NumberOfTime60-89DaysPastDueNotWorse                     -0.036955   \n",
       "NumberOfDependents                                        0.131667   \n",
       "\n",
       "                                      NumberOfTime60-89DaysPastDueNotWorse  \\\n",
       "SeriousDlqin2yrs                                                  0.104570   \n",
       "RevolvingUtilizationOfUnsecuredLines                              0.001173   \n",
       "age                                                              -0.046779   \n",
       "NumberOfTime30-59DaysPastDueNotWorse                              0.984125   \n",
       "DebtRatio                                                        -0.012668   \n",
       "MonthlyIncome                                                    -0.009700   \n",
       "NumberOfOpenCreditLinesAndLoans                                  -0.065921   \n",
       "NumberOfTimes90DaysLate                                           0.991027   \n",
       "NumberRealEstateLoansOrLines                                     -0.036955   \n",
       "NumberOfTime60-89DaysPastDueNotWorse                              1.000000   \n",
       "NumberOfDependents                                               -0.008738   \n",
       "\n",
       "                                      NumberOfDependents  \n",
       "SeriousDlqin2yrs                                0.046236  \n",
       "RevolvingUtilizationOfUnsecuredLines           -0.002546  \n",
       "age                                            -0.207784  \n",
       "NumberOfTime30-59DaysPastDueNotWorse           -0.000033  \n",
       "DebtRatio                                      -0.094865  \n",
       "MonthlyIncome                                   0.065234  \n",
       "NumberOfOpenCreditLinesAndLoans                 0.064022  \n",
       "NumberOfTimes90DaysLate                        -0.007950  \n",
       "NumberRealEstateLoansOrLines                    0.131667  \n",
       "NumberOfTime60-89DaysPastDueNotWorse           -0.008738  \n",
       "NumberOfDependents                              1.000000  "
      ]
     },
     "execution_count": 868,
     "metadata": {},
     "output_type": "execute_result"
    }
   ],
   "source": [
    "df2.corr()"
   ]
  },
  {
   "cell_type": "markdown",
   "id": "887e9054",
   "metadata": {},
   "source": [
    "## Variance Inflation Testing "
   ]
  },
  {
   "cell_type": "code",
   "execution_count": 869,
   "id": "e3801ca4",
   "metadata": {},
   "outputs": [],
   "source": [
    "from statsmodels.stats.outliers_influence import variance_inflation_factor"
   ]
  },
  {
   "cell_type": "code",
   "execution_count": 870,
   "id": "58b83ca2",
   "metadata": {},
   "outputs": [],
   "source": [
    "X=df2.drop('SeriousDlqin2yrs',axis=1)"
   ]
  },
  {
   "cell_type": "code",
   "execution_count": 871,
   "id": "b6f5f7de",
   "metadata": {},
   "outputs": [
    {
     "name": "stdout",
     "output_type": "stream",
     "text": [
      "                                feature        VIF\n",
      "0  RevolvingUtilizationOfUnsecuredLines   1.001556\n",
      "1                                   age   3.904627\n",
      "2  NumberOfTime30-59DaysPastDueNotWorse  33.733835\n",
      "3                             DebtRatio   1.120813\n",
      "4                         MonthlyIncome   1.263582\n",
      "5       NumberOfOpenCreditLinesAndLoans   4.648456\n",
      "6               NumberOfTimes90DaysLate  58.840202\n",
      "7          NumberRealEstateLoansOrLines   2.298668\n",
      "8  NumberOfTime60-89DaysPastDueNotWorse  73.583496\n",
      "9                    NumberOfDependents   1.431548\n"
     ]
    }
   ],
   "source": [
    "vif_data = pd.DataFrame()\n",
    "vif_data[\"feature\"] = X.columns\n",
    "vif_data[\"VIF\"] = [variance_inflation_factor(X.values, i)\n",
    "                          for i in range(len(X.columns))]\n",
    "  \n",
    "print(vif_data)"
   ]
  },
  {
   "cell_type": "code",
   "execution_count": 872,
   "id": "cacd3ec6",
   "metadata": {},
   "outputs": [
    {
     "data": {
      "text/html": [
       "<div>\n",
       "<style scoped>\n",
       "    .dataframe tbody tr th:only-of-type {\n",
       "        vertical-align: middle;\n",
       "    }\n",
       "\n",
       "    .dataframe tbody tr th {\n",
       "        vertical-align: top;\n",
       "    }\n",
       "\n",
       "    .dataframe thead th {\n",
       "        text-align: right;\n",
       "    }\n",
       "</style>\n",
       "<table border=\"1\" class=\"dataframe\">\n",
       "  <thead>\n",
       "    <tr style=\"text-align: right;\">\n",
       "      <th></th>\n",
       "      <th>SeriousDlqin2yrs</th>\n",
       "      <th>RevolvingUtilizationOfUnsecuredLines</th>\n",
       "      <th>age</th>\n",
       "      <th>NumberOfTime30-59DaysPastDueNotWorse</th>\n",
       "      <th>DebtRatio</th>\n",
       "      <th>MonthlyIncome</th>\n",
       "      <th>NumberOfOpenCreditLinesAndLoans</th>\n",
       "      <th>NumberRealEstateLoansOrLines</th>\n",
       "      <th>NumberOfDependents</th>\n",
       "    </tr>\n",
       "  </thead>\n",
       "  <tbody>\n",
       "    <tr>\n",
       "      <th>0</th>\n",
       "      <td>1</td>\n",
       "      <td>0.766127</td>\n",
       "      <td>45</td>\n",
       "      <td>2</td>\n",
       "      <td>0.802982</td>\n",
       "      <td>9120.0</td>\n",
       "      <td>13</td>\n",
       "      <td>6</td>\n",
       "      <td>2.0</td>\n",
       "    </tr>\n",
       "    <tr>\n",
       "      <th>1</th>\n",
       "      <td>0</td>\n",
       "      <td>0.957151</td>\n",
       "      <td>40</td>\n",
       "      <td>0</td>\n",
       "      <td>0.121876</td>\n",
       "      <td>2600.0</td>\n",
       "      <td>4</td>\n",
       "      <td>0</td>\n",
       "      <td>1.0</td>\n",
       "    </tr>\n",
       "    <tr>\n",
       "      <th>2</th>\n",
       "      <td>0</td>\n",
       "      <td>0.658180</td>\n",
       "      <td>38</td>\n",
       "      <td>1</td>\n",
       "      <td>0.085113</td>\n",
       "      <td>3042.0</td>\n",
       "      <td>2</td>\n",
       "      <td>0</td>\n",
       "      <td>0.0</td>\n",
       "    </tr>\n",
       "    <tr>\n",
       "      <th>3</th>\n",
       "      <td>0</td>\n",
       "      <td>0.233810</td>\n",
       "      <td>30</td>\n",
       "      <td>0</td>\n",
       "      <td>0.036050</td>\n",
       "      <td>3300.0</td>\n",
       "      <td>5</td>\n",
       "      <td>0</td>\n",
       "      <td>0.0</td>\n",
       "    </tr>\n",
       "    <tr>\n",
       "      <th>4</th>\n",
       "      <td>0</td>\n",
       "      <td>0.907239</td>\n",
       "      <td>49</td>\n",
       "      <td>1</td>\n",
       "      <td>0.024926</td>\n",
       "      <td>63588.0</td>\n",
       "      <td>7</td>\n",
       "      <td>1</td>\n",
       "      <td>0.0</td>\n",
       "    </tr>\n",
       "  </tbody>\n",
       "</table>\n",
       "</div>"
      ],
      "text/plain": [
       "   SeriousDlqin2yrs  RevolvingUtilizationOfUnsecuredLines  age  \\\n",
       "0                 1                              0.766127   45   \n",
       "1                 0                              0.957151   40   \n",
       "2                 0                              0.658180   38   \n",
       "3                 0                              0.233810   30   \n",
       "4                 0                              0.907239   49   \n",
       "\n",
       "   NumberOfTime30-59DaysPastDueNotWorse  DebtRatio  MonthlyIncome  \\\n",
       "0                                     2   0.802982         9120.0   \n",
       "1                                     0   0.121876         2600.0   \n",
       "2                                     1   0.085113         3042.0   \n",
       "3                                     0   0.036050         3300.0   \n",
       "4                                     1   0.024926        63588.0   \n",
       "\n",
       "   NumberOfOpenCreditLinesAndLoans  NumberRealEstateLoansOrLines  \\\n",
       "0                               13                             6   \n",
       "1                                4                             0   \n",
       "2                                2                             0   \n",
       "3                                5                             0   \n",
       "4                                7                             1   \n",
       "\n",
       "   NumberOfDependents  \n",
       "0                 2.0  \n",
       "1                 1.0  \n",
       "2                 0.0  \n",
       "3                 0.0  \n",
       "4                 0.0  "
      ]
     },
     "execution_count": 872,
     "metadata": {},
     "output_type": "execute_result"
    }
   ],
   "source": [
    "df_v=df2.drop(['NumberOfTimes90DaysLate',\n",
    "             'NumberOfTime60-89DaysPastDueNotWorse'],axis=1)\n",
    "df_v.head()"
   ]
  },
  {
   "cell_type": "code",
   "execution_count": 873,
   "id": "609129e9",
   "metadata": {},
   "outputs": [
    {
     "name": "stdout",
     "output_type": "stream",
     "text": [
      "                                feature       VIF\n",
      "0                      SeriousDlqin2yrs  1.080433\n",
      "1  RevolvingUtilizationOfUnsecuredLines  1.001590\n",
      "2                                   age  3.907788\n",
      "3  NumberOfTime30-59DaysPastDueNotWorse  1.027190\n",
      "4                             DebtRatio  1.120855\n",
      "5                         MonthlyIncome  1.263654\n",
      "6       NumberOfOpenCreditLinesAndLoans  4.581896\n",
      "7          NumberRealEstateLoansOrLines  2.297629\n",
      "8                    NumberOfDependents  1.436124\n"
     ]
    }
   ],
   "source": [
    "vif_data = pd.DataFrame()\n",
    "vif_data[\"feature\"] = df_v.columns\n",
    "vif_data[\"VIF\"] = [variance_inflation_factor(df_v.values, i)\n",
    "                          for i in range(len(df_v.columns))]\n",
    "  \n",
    "print(vif_data)"
   ]
  },
  {
   "cell_type": "code",
   "execution_count": 874,
   "id": "77f95ab0",
   "metadata": {},
   "outputs": [
    {
     "data": {
      "text/plain": [
       "Index(['SeriousDlqin2yrs', 'RevolvingUtilizationOfUnsecuredLines', 'age',\n",
       "       'NumberOfTime30-59DaysPastDueNotWorse', 'DebtRatio', 'MonthlyIncome',\n",
       "       'NumberOfOpenCreditLinesAndLoans', 'NumberRealEstateLoansOrLines',\n",
       "       'NumberOfDependents'],\n",
       "      dtype='object')"
      ]
     },
     "execution_count": 874,
     "metadata": {},
     "output_type": "execute_result"
    }
   ],
   "source": [
    "df_v.columns"
   ]
  },
  {
   "cell_type": "code",
   "execution_count": 875,
   "id": "5448b5ad",
   "metadata": {},
   "outputs": [
    {
     "data": {
      "text/plain": [
       "(140453, 9)"
      ]
     },
     "execution_count": 875,
     "metadata": {},
     "output_type": "execute_result"
    }
   ],
   "source": [
    "df_v.shape"
   ]
  },
  {
   "cell_type": "markdown",
   "id": "2b556ff2",
   "metadata": {},
   "source": [
    "## Building various Classification Models "
   ]
  },
  {
   "cell_type": "code",
   "execution_count": 876,
   "id": "a9ca931b",
   "metadata": {},
   "outputs": [],
   "source": [
    "from sklearn.model_selection import train_test_split\n",
    "from sklearn.ensemble import RandomForestClassifier\n",
    "from sklearn.linear_model import LogisticRegression\n",
    "from sklearn.metrics import accuracy_score\n",
    "from sklearn.metrics import confusion_matrix, classification_report"
   ]
  },
  {
   "cell_type": "code",
   "execution_count": 877,
   "id": "364ebd0b",
   "metadata": {},
   "outputs": [],
   "source": [
    "X=df_v.drop('SeriousDlqin2yrs',axis=1)\n",
    "Y=df_v['SeriousDlqin2yrs']"
   ]
  },
  {
   "cell_type": "code",
   "execution_count": 878,
   "id": "101fd462",
   "metadata": {},
   "outputs": [],
   "source": [
    "X_train, X_test, y_train, y_test = train_test_split(X,Y, test_size=0.2,stratify=df_v[['SeriousDlqin2yrs']],\n",
    "                             random_state=42)\n"
   ]
  },
  {
   "cell_type": "code",
   "execution_count": 879,
   "id": "d9f1d3c6",
   "metadata": {},
   "outputs": [
    {
     "name": "stderr",
     "output_type": "stream",
     "text": [
      "/Users/ankitshastri/anaconda3/lib/python3.10/site-packages/sklearn/linear_model/_logistic.py:458: ConvergenceWarning: lbfgs failed to converge (status=1):\n",
      "STOP: TOTAL NO. of ITERATIONS REACHED LIMIT.\n",
      "\n",
      "Increase the number of iterations (max_iter) or scale the data as shown in:\n",
      "    https://scikit-learn.org/stable/modules/preprocessing.html\n",
      "Please also refer to the documentation for alternative solver options:\n",
      "    https://scikit-learn.org/stable/modules/linear_model.html#logistic-regression\n",
      "  n_iter_i = _check_optimize_result(\n"
     ]
    }
   ],
   "source": [
    "\n",
    "    \n",
    "clf = LogisticRegression(penalty='l2',random_state=42).fit(X_train, y_train)\n",
    "\n"
   ]
  },
  {
   "cell_type": "code",
   "execution_count": 880,
   "id": "a44db429",
   "metadata": {},
   "outputs": [
    {
     "data": {
      "text/plain": [
       "(112362, 8)"
      ]
     },
     "execution_count": 880,
     "metadata": {},
     "output_type": "execute_result"
    }
   ],
   "source": [
    "X_train.shape"
   ]
  },
  {
   "cell_type": "code",
   "execution_count": 881,
   "id": "3d4de001",
   "metadata": {},
   "outputs": [
    {
     "data": {
      "text/plain": [
       "(112362,)"
      ]
     },
     "execution_count": 881,
     "metadata": {},
     "output_type": "execute_result"
    }
   ],
   "source": [
    "y_train.shape"
   ]
  },
  {
   "cell_type": "code",
   "execution_count": 882,
   "id": "9c92f6f3",
   "metadata": {},
   "outputs": [
    {
     "data": {
      "text/plain": [
       "(28091, 8)"
      ]
     },
     "execution_count": 882,
     "metadata": {},
     "output_type": "execute_result"
    }
   ],
   "source": [
    "X_test.shape"
   ]
  },
  {
   "cell_type": "code",
   "execution_count": 883,
   "id": "99c54d3e",
   "metadata": {},
   "outputs": [
    {
     "data": {
      "text/plain": [
       "(28091,)"
      ]
     },
     "execution_count": 883,
     "metadata": {},
     "output_type": "execute_result"
    }
   ],
   "source": [
    "y_test.shape"
   ]
  },
  {
   "cell_type": "code",
   "execution_count": 884,
   "id": "cff3f642",
   "metadata": {},
   "outputs": [
    {
     "data": {
      "text/plain": [
       "(28091,)"
      ]
     },
     "execution_count": 884,
     "metadata": {},
     "output_type": "execute_result"
    }
   ],
   "source": [
    "\n",
    "y_pred=clf.predict(X_test)\n",
    "   \n",
    "y_pred.shape"
   ]
  },
  {
   "cell_type": "code",
   "execution_count": 885,
   "id": "5a2632e8",
   "metadata": {},
   "outputs": [],
   "source": [
    "scores=[]\n",
    "scores.append(accuracy_score(y_test,y_pred))\n",
    "cm = confusion_matrix(y_test,y_pred)"
   ]
  },
  {
   "cell_type": "code",
   "execution_count": 886,
   "id": "96a30dcd",
   "metadata": {},
   "outputs": [
    {
     "name": "stdout",
     "output_type": "stream",
     "text": [
      "Accuracy:  [0.9325762699797088]\n",
      "Confusion Matrix:  [[26169    11]\n",
      " [ 1883    28]]\n"
     ]
    }
   ],
   "source": [
    "print('Accuracy: ',scores)\n",
    "print('Confusion Matrix: ',cm)"
   ]
  },
  {
   "cell_type": "code",
   "execution_count": 887,
   "id": "ca275545",
   "metadata": {},
   "outputs": [
    {
     "data": {
      "text/plain": [
       "Text(50.722222222222214, 0.5, 'actuals')"
      ]
     },
     "execution_count": 887,
     "metadata": {},
     "output_type": "execute_result"
    },
    {
     "data": {
      "image/png": "[encoded data removed]",
      "text/plain": [
       "<Figure size 640x480 with 2 Axes>"
      ]
     },
     "metadata": {},
     "output_type": "display_data"
    }
   ],
   "source": [
    "sns.heatmap(cm,annot=True,fmt='d',cmap='Oranges',linewidths=0.5,linecolor='Black')\n",
    "plt.xticks(np.arange(2)+.5,['No def','def'])\n",
    "plt.yticks(np.arange(2)+.5,['No def','def'])\n",
    "plt.xlabel(\"predicted\")\n",
    "plt.ylabel(\"actuals\")"
   ]
  },
  {
   "cell_type": "code",
   "execution_count": 888,
   "id": "17feb3d9",
   "metadata": {},
   "outputs": [
    {
     "name": "stdout",
     "output_type": "stream",
     "text": [
      "              precision    recall  f1-score   support\n",
      "\n",
      "           0       0.93      1.00      0.97     26180\n",
      "           1       0.72      0.01      0.03      1911\n",
      "\n",
      "    accuracy                           0.93     28091\n",
      "   macro avg       0.83      0.51      0.50     28091\n",
      "weighted avg       0.92      0.93      0.90     28091\n",
      "\n"
     ]
    }
   ],
   "source": [
    "print(classification_report(y_test,y_pred))"
   ]
  },
  {
   "cell_type": "code",
   "execution_count": 889,
   "id": "1d245632",
   "metadata": {},
   "outputs": [],
   "source": [
    "rf=RandomForestClassifier(n_estimators=7,random_state=42).fit(X_train, y_train)\n"
   ]
  },
  {
   "cell_type": "code",
   "execution_count": 890,
   "id": "cacd77de",
   "metadata": {},
   "outputs": [],
   "source": [
    "y_pred=rf.predict(X_test)\n"
   ]
  },
  {
   "cell_type": "code",
   "execution_count": 904,
   "id": "80bbb9ed",
   "metadata": {},
   "outputs": [
    {
     "data": {
      "text/plain": [
       "array(['RevolvingUtilizationOfUnsecuredLines', 'age',\n",
       "       'NumberOfTime30-59DaysPastDueNotWorse', 'DebtRatio',\n",
       "       'MonthlyIncome', 'NumberOfOpenCreditLinesAndLoans',\n",
       "       'NumberRealEstateLoansOrLines', 'NumberOfDependents'], dtype=object)"
      ]
     },
     "execution_count": 904,
     "metadata": {},
     "output_type": "execute_result"
    }
   ],
   "source": [
    "rf.feature_names_in_"
   ]
  },
  {
   "cell_type": "code",
   "execution_count": 903,
   "id": "9d8bcf54",
   "metadata": {},
   "outputs": [
    {
     "data": {
      "text/plain": [
       "array([0.23346841, 0.14337917, 0.08159914, 0.19767796, 0.17121685,\n",
       "       0.09764817, 0.03296985, 0.04204045])"
      ]
     },
     "execution_count": 903,
     "metadata": {},
     "output_type": "execute_result"
    }
   ],
   "source": [
    "rf.feature_importances_"
   ]
  },
  {
   "cell_type": "code",
   "execution_count": 891,
   "id": "b16469ff",
   "metadata": {},
   "outputs": [
    {
     "name": "stdout",
     "output_type": "stream",
     "text": [
      "Accuracy:  [0.9267025025808978]\n",
      "Confusion Matrix:  [[25792   388]\n",
      " [ 1671   240]]\n"
     ]
    }
   ],
   "source": [
    "scores=[]\n",
    "scores.append(accuracy_score(y_test,y_pred))\n",
    "cm = confusion_matrix(y_test,y_pred)\n",
    "print('Accuracy: ',scores)\n",
    "print('Confusion Matrix: ',cm)"
   ]
  },
  {
   "cell_type": "code",
   "execution_count": 892,
   "id": "9d88d455",
   "metadata": {},
   "outputs": [
    {
     "data": {
      "text/plain": [
       "Text(50.722222222222214, 0.5, 'actuals')"
      ]
     },
     "execution_count": 892,
     "metadata": {},
     "output_type": "execute_result"
    },
    {
     "data": {
      "image/png": "[encoded data removed]",
      "text/plain": [
       "<Figure size 640x480 with 2 Axes>"
      ]
     },
     "metadata": {},
     "output_type": "display_data"
    }
   ],
   "source": [
    "sns.heatmap(cm,annot=True,fmt='d',cmap='Oranges',linewidths=0.5,linecolor='Black')\n",
    "plt.xticks(np.arange(2)+.5,['No def','def'])\n",
    "plt.yticks(np.arange(2)+.5,['No def','def'])\n",
    "plt.xlabel(\"predicted\")\n",
    "plt.ylabel(\"actuals\")"
   ]
  },
  {
   "cell_type": "code",
   "execution_count": 893,
   "id": "2b786132",
   "metadata": {},
   "outputs": [
    {
     "name": "stdout",
     "output_type": "stream",
     "text": [
      "              precision    recall  f1-score   support\n",
      "\n",
      "           0       0.94      0.99      0.96     26180\n",
      "           1       0.38      0.13      0.19      1911\n",
      "\n",
      "    accuracy                           0.93     28091\n",
      "   macro avg       0.66      0.56      0.58     28091\n",
      "weighted avg       0.90      0.93      0.91     28091\n",
      "\n"
     ]
    }
   ],
   "source": [
    "print(classification_report(y_test,y_pred))"
   ]
  },
  {
   "cell_type": "code",
   "execution_count": 894,
   "id": "df5248c4",
   "metadata": {},
   "outputs": [
    {
     "name": "stdout",
     "output_type": "stream",
     "text": [
      "Requirement already satisfied: xgboost in ./anaconda3/lib/python3.10/site-packages (1.7.6)\r\n",
      "Requirement already satisfied: numpy in ./anaconda3/lib/python3.10/site-packages (from xgboost) (1.23.5)\r\n",
      "Requirement already satisfied: scipy in ./anaconda3/lib/python3.10/site-packages (from xgboost) (1.10.0)\r\n"
     ]
    }
   ],
   "source": [
    "!pip3 install xgboost"
   ]
  },
  {
   "cell_type": "code",
   "execution_count": 895,
   "id": "24d96e93",
   "metadata": {},
   "outputs": [],
   "source": [
    "import xgboost as xgb\n",
    "from xgboost import XGBClassifier"
   ]
  },
  {
   "cell_type": "code",
   "execution_count": 896,
   "id": "2012aa21",
   "metadata": {},
   "outputs": [],
   "source": [
    "model = XGBClassifier(tree_method = 'exact')"
   ]
  },
  {
   "cell_type": "code",
   "execution_count": 897,
   "id": "89fd6dc0",
   "metadata": {},
   "outputs": [
    {
     "data": {
      "text/html": [
       "<style>#sk-container-id-4 {color: black;background-color: white;}#sk-container-id-4 pre{padding: 0;}#sk-container-id-4 div.sk-toggleable {background-color: white;}#sk-container-id-4 label.sk-toggleable__label {cursor: pointer;display: block;width: 100%;margin-bottom: 0;padding: 0.3em;box-sizing: border-box;text-align: center;}#sk-container-id-4 label.sk-toggleable__label-arrow:before {content: \"▸\";float: left;margin-right: 0.25em;color: #696969;}#sk-container-id-4 label.sk-toggleable__label-arrow:hover:before {color: black;}#sk-container-id-4 div.sk-estimator:hover label.sk-toggleable__label-arrow:before {color: black;}#sk-container-id-4 div.sk-toggleable__content {max-height: 0;max-width: 0;overflow: hidden;text-align: left;background-color: #f0f8ff;}#sk-container-id-4 div.sk-toggleable__content pre {margin: 0.2em;color: black;border-radius: 0.25em;background-color: #f0f8ff;}#sk-container-id-4 input.sk-toggleable__control:checked~div.sk-toggleable__content {max-height: 200px;max-width: 100%;overflow: auto;}#sk-container-id-4 input.sk-toggleable__control:checked~label.sk-toggleable__label-arrow:before {content: \"▾\";}#sk-container-id-4 div.sk-estimator input.sk-toggleable__control:checked~label.sk-toggleable__label {background-color: #d4ebff;}#sk-container-id-4 div.sk-label input.sk-toggleable__control:checked~label.sk-toggleable__label {background-color: #d4ebff;}#sk-container-id-4 input.sk-hidden--visually {border: 0;clip: rect(1px 1px 1px 1px);clip: rect(1px, 1px, 1px, 1px);height: 1px;margin: -1px;overflow: hidden;padding: 0;position: absolute;width: 1px;}#sk-container-id-4 div.sk-estimator {font-family: monospace;background-color: #f0f8ff;border: 1px dotted black;border-radius: 0.25em;box-sizing: border-box;margin-bottom: 0.5em;}#sk-container-id-4 div.sk-estimator:hover {background-color: #d4ebff;}#sk-container-id-4 div.sk-parallel-item::after {content: \"\";width: 100%;border-bottom: 1px solid gray;flex-grow: 1;}#sk-container-id-4 div.sk-label:hover label.sk-toggleable__label {background-color: #d4ebff;}#sk-container-id-4 div.sk-serial::before {content: \"\";position: absolute;border-left: 1px solid gray;box-sizing: border-box;top: 0;bottom: 0;left: 50%;z-index: 0;}#sk-container-id-4 div.sk-serial {display: flex;flex-direction: column;align-items: center;background-color: white;padding-right: 0.2em;padding-left: 0.2em;position: relative;}#sk-container-id-4 div.sk-item {position: relative;z-index: 1;}#sk-container-id-4 div.sk-parallel {display: flex;align-items: stretch;justify-content: center;background-color: white;position: relative;}#sk-container-id-4 div.sk-item::before, #sk-container-id-4 div.sk-parallel-item::before {content: \"\";position: absolute;border-left: 1px solid gray;box-sizing: border-box;top: 0;bottom: 0;left: 50%;z-index: -1;}#sk-container-id-4 div.sk-parallel-item {display: flex;flex-direction: column;z-index: 1;position: relative;background-color: white;}#sk-container-id-4 div.sk-parallel-item:first-child::after {align-self: flex-end;width: 50%;}#sk-container-id-4 div.sk-parallel-item:last-child::after {align-self: flex-start;width: 50%;}#sk-container-id-4 div.sk-parallel-item:only-child::after {width: 0;}#sk-container-id-4 div.sk-dashed-wrapped {border: 1px dashed gray;margin: 0 0.4em 0.5em 0.4em;box-sizing: border-box;padding-bottom: 0.4em;background-color: white;}#sk-container-id-4 div.sk-label label {font-family: monospace;font-weight: bold;display: inline-block;line-height: 1.2em;}#sk-container-id-4 div.sk-label-container {text-align: center;}#sk-container-id-4 div.sk-container {/* jupyter's `normalize.less` sets `[hidden] { display: none; }` but bootstrap.min.css set `[hidden] { display: none !important; }` so we also need the `!important` here to be able to override the default hidden behavior on the sphinx rendered scikit-learn.org. See: https://github.com/scikit-learn/scikit-learn/issues/21755 */display: inline-block !important;position: relative;}#sk-container-id-4 div.sk-text-repr-fallback {display: none;}</style><div id=\"sk-container-id-4\" class=\"sk-top-container\"><div class=\"sk-text-repr-fallback\"><pre>XGBClassifier(base_score=None, booster=None, callbacks=None,\n",
       "              colsample_bylevel=None, colsample_bynode=None,\n",
       "              colsample_bytree=None, early_stopping_rounds=None,\n",
       "              enable_categorical=False, eval_metric=None, feature_types=None,\n",
       "              gamma=None, gpu_id=None, grow_policy=None, importance_type=None,\n",
       "              interaction_constraints=None, learning_rate=None, max_bin=None,\n",
       "              max_cat_threshold=None, max_cat_to_onehot=None,\n",
       "              max_delta_step=None, max_depth=None, max_leaves=None,\n",
       "              min_child_weight=None, missing=nan, monotone_constraints=None,\n",
       "              n_estimators=100, n_jobs=None, num_parallel_tree=None,\n",
       "              predictor=None, random_state=None, ...)</pre><b>In a Jupyter environment, please rerun this cell to show the HTML representation or trust the notebook. <br />On GitHub, the HTML representation is unable to render, please try loading this page with nbviewer.org.</b></div><div class=\"sk-container\" hidden><div class=\"sk-item\"><div class=\"sk-estimator sk-toggleable\"><input class=\"sk-toggleable__control sk-hidden--visually\" id=\"sk-estimator-id-4\" type=\"checkbox\" checked><label for=\"sk-estimator-id-4\" class=\"sk-toggleable__label sk-toggleable__label-arrow\">XGBClassifier</label><div class=\"sk-toggleable__content\"><pre>XGBClassifier(base_score=None, booster=None, callbacks=None,\n",
       "              colsample_bylevel=None, colsample_bynode=None,\n",
       "              colsample_bytree=None, early_stopping_rounds=None,\n",
       "              enable_categorical=False, eval_metric=None, feature_types=None,\n",
       "              gamma=None, gpu_id=None, grow_policy=None, importance_type=None,\n",
       "              interaction_constraints=None, learning_rate=None, max_bin=None,\n",
       "              max_cat_threshold=None, max_cat_to_onehot=None,\n",
       "              max_delta_step=None, max_depth=None, max_leaves=None,\n",
       "              min_child_weight=None, missing=nan, monotone_constraints=None,\n",
       "              n_estimators=100, n_jobs=None, num_parallel_tree=None,\n",
       "              predictor=None, random_state=None, ...)</pre></div></div></div></div></div>"
      ],
      "text/plain": [
       "XGBClassifier(base_score=None, booster=None, callbacks=None,\n",
       "              colsample_bylevel=None, colsample_bynode=None,\n",
       "              colsample_bytree=None, early_stopping_rounds=None,\n",
       "              enable_categorical=False, eval_metric=None, feature_types=None,\n",
       "              gamma=None, gpu_id=None, grow_policy=None, importance_type=None,\n",
       "              interaction_constraints=None, learning_rate=None, max_bin=None,\n",
       "              max_cat_threshold=None, max_cat_to_onehot=None,\n",
       "              max_delta_step=None, max_depth=None, max_leaves=None,\n",
       "              min_child_weight=None, missing=nan, monotone_constraints=None,\n",
       "              n_estimators=100, n_jobs=None, num_parallel_tree=None,\n",
       "              predictor=None, random_state=None, ...)"
      ]
     },
     "execution_count": 897,
     "metadata": {},
     "output_type": "execute_result"
    }
   ],
   "source": [
    "model.fit(X_train, y_train)"
   ]
  },
  {
   "cell_type": "code",
   "execution_count": 898,
   "id": "b9e33335",
   "metadata": {},
   "outputs": [],
   "source": [
    "y_pred=model.predict(X_test)"
   ]
  },
  {
   "cell_type": "code",
   "execution_count": 899,
   "id": "6cd66c9f",
   "metadata": {},
   "outputs": [
    {
     "name": "stdout",
     "output_type": "stream",
     "text": [
      "Accuracy:  [0.9320778897155673]\n",
      "Confusion Matrix:  [[25998   182]\n",
      " [ 1726   185]]\n"
     ]
    }
   ],
   "source": [
    "scores=[]\n",
    "scores.append(accuracy_score(y_test,y_pred))\n",
    "cm = confusion_matrix(y_test,y_pred)\n",
    "print('Accuracy: ',scores)\n",
    "print('Confusion Matrix: ',cm)"
   ]
  },
  {
   "cell_type": "code",
   "execution_count": 900,
   "id": "5db83ee9",
   "metadata": {},
   "outputs": [
    {
     "data": {
      "text/plain": [
       "Text(50.722222222222214, 0.5, 'actuals')"
      ]
     },
     "execution_count": 900,
     "metadata": {},
     "output_type": "execute_result"
    },
    {
     "data": {
      "image/png": "[encoded data removed]",
      "text/plain": [
       "<Figure size 640x480 with 2 Axes>"
      ]
     },
     "metadata": {},
     "output_type": "display_data"
    }
   ],
   "source": [
    "sns.heatmap(cm,annot=True,fmt='d',cmap='Oranges',linewidths=0.5,linecolor='Black')\n",
    "plt.xticks(np.arange(2)+.5,['No def','def'])\n",
    "plt.yticks(np.arange(2)+.5,['No def','def'])\n",
    "plt.xlabel(\"predicted\")\n",
    "plt.ylabel(\"actuals\")"
   ]
  },
  {
   "cell_type": "code",
   "execution_count": 901,
   "id": "4417fbb8",
   "metadata": {},
   "outputs": [
    {
     "name": "stdout",
     "output_type": "stream",
     "text": [
      "              precision    recall  f1-score   support\n",
      "\n",
      "           0       0.94      0.99      0.96     26180\n",
      "           1       0.50      0.10      0.16      1911\n",
      "\n",
      "    accuracy                           0.93     28091\n",
      "   macro avg       0.72      0.54      0.56     28091\n",
      "weighted avg       0.91      0.93      0.91     28091\n",
      "\n"
     ]
    }
   ],
   "source": [
    "print(classification_report(y_test,y_pred))"
   ]
  },
  {
   "cell_type": "code",
   "execution_count": null,
   "id": "aac4ba6c",
   "metadata": {},
   "outputs": [],
   "source": []
  }
 ],
 "metadata": {
  "kernelspec": {
   "display_name": "Python 3 (ipykernel)",
   "language": "python",
   "name": "python3"
  },
  "language_info": {
   "codemirror_mode": {
    "name": "ipython",
    "version": 3
   },
   "file_extension": ".py",
   "mimetype": "text/x-python",
   "name": "python",
   "nbconvert_exporter": "python",
   "pygments_lexer": "ipython3",
   "version": "3.10.9"
  }
 },
 "nbformat": 4,
 "nbformat_minor": 5
}
